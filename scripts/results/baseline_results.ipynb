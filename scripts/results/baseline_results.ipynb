{
 "cells": [
  {
   "cell_type": "code",
   "execution_count": 1,
   "metadata": {},
   "outputs": [],
   "source": [
    "import numpy as np"
   ]
  },
  {
   "attachments": {},
   "cell_type": "markdown",
   "metadata": {},
   "source": [
    "# Load Data"
   ]
  },
  {
   "cell_type": "code",
   "execution_count": 2,
   "metadata": {},
   "outputs": [],
   "source": [
    "zero_shot_path = \"../zero_shot/results/zero_shot_results.npy\"\n",
    "few_shot_path = \"../few_shot/results/few_shot_results.npy\""
   ]
  },
  {
   "cell_type": "code",
   "execution_count": 4,
   "metadata": {},
   "outputs": [],
   "source": [
    "zero_shot_results = np.load(zero_shot_path, allow_pickle=True).item()\n",
    "few_shot_results = np.load(few_shot_path, allow_pickle=True).item()"
   ]
  },
  {
   "attachments": {},
   "cell_type": "markdown",
   "metadata": {},
   "source": [
    "# Observe Data"
   ]
  },
  {
   "cell_type": "code",
   "execution_count": 17,
   "metadata": {},
   "outputs": [],
   "source": [
    "from ipywidgets import interact, fixed"
   ]
  },
  {
   "cell_type": "code",
   "execution_count": 33,
   "metadata": {},
   "outputs": [],
   "source": [
    "def compare_results(idx, rez):\n",
    "    key = list(few_shot_results['indices'].keys())[idx]\n",
    "    print(\"Predicted:\\t\", rez['answers'][key][0])\n",
    "    print(\"Truth:\\t\\t\", rez['answers'][key][1])"
   ]
  },
  {
   "cell_type": "code",
   "execution_count": 34,
   "metadata": {},
   "outputs": [
    {
     "data": {
      "application/vnd.jupyter.widget-view+json": {
       "model_id": "5ee29fed8c354850aba373ab6affa0d8",
       "version_major": 2,
       "version_minor": 0
      },
      "text/plain": [
       "interactive(children=(IntSlider(value=4, description='idx', max=9), Output()), _dom_classes=('widget-interact'…"
      ]
     },
     "metadata": {},
     "output_type": "display_data"
    }
   ],
   "source": [
    "_=interact(compare_results, idx=(0,len(zero_shot_results['answers']) - 1), rez = fixed(zero_shot_results))"
   ]
  },
  {
   "cell_type": "code",
   "execution_count": 36,
   "metadata": {},
   "outputs": [
    {
     "data": {
      "application/vnd.jupyter.widget-view+json": {
       "model_id": "88dfcc7a66554feeb782bb5d507d9854",
       "version_major": 2,
       "version_minor": 0
      },
      "text/plain": [
       "interactive(children=(IntSlider(value=4, description='idx', max=9), Output()), _dom_classes=('widget-interact'…"
      ]
     },
     "metadata": {},
     "output_type": "display_data"
    }
   ],
   "source": [
    "_=interact(compare_results, idx=(0,len(zero_shot_results['answers']) - 1), rez = fixed(few_shot_results))"
   ]
  },
  {
   "cell_type": "code",
   "execution_count": 35,
   "metadata": {},
   "outputs": [
    {
     "name": "stdout",
     "output_type": "stream",
     "text": [
      "Predicted:\t [CH3:1][O:2][C:3]([CH2:4][CH2:5][c:6]1[cH:7][c:8]([CH2:12][NH:13][CH2:14][c:15]2[cH:16][cH:17][c:18](-[c:21]3[cH:22][n:23][cH:24][n:25][cH:26]3)[cH:19][cH:20]2)[cH:9][cH:10][cH:11]1)([N+:29]([CH3:43])([CH2:42][N-:41]([CH2:44][CH3:45])[CH2:40][CH3:39])[Cl-:28])=[O:27]\n",
      "Truth:\t\t [CH3:1][O:2][C:3]([CH2:4][CH2:5][c:6]1[cH:7][c:8]([CH2:12][N:13]([CH2:14][c:15]2[cH:16][cH:17][c:18](-[c:21]3[cH:22][n:23][cH:24][n:25][cH:26]3)[cH:19][cH:20]2)[S:35]([c:30]2[n:29][cH:34][cH:33][cH:32][cH:31]2)(=[O:36])=[O:37])[cH:9][cH:10][cH:11]1)=[O:27]\n"
     ]
    }
   ],
   "source": [
    "compare_results(9, zero_shot_results)"
   ]
  },
  {
   "cell_type": "code",
   "execution_count": 37,
   "metadata": {},
   "outputs": [
    {
     "name": "stdout",
     "output_type": "stream",
     "text": [
      "Predicted:\t [CH3:1][O:2][C:3]([CH2:4][CH2:5][c:6]1[cH:7][c:8]([CH2:12][NH:13][CH2:14][c:15]2[cH:16][cH:17][c:18](-[c:21]3[cH:22][n:23][cH:24][n:25][cH:26]3)[cH:19][cH:20]2)[cH:9][cH:10][cH:11]1)=[O:27].[n:29]1[c:30]([S:35](=[O:36])(=[O:37])[CH:39]([CH2:40][N:41]([CH2:42][CH3:43])[CH2:44][CH3:45])[Cl:38])[cH:31][cH:32][cH:33][cH:34]1\n",
      "Truth:\t\t [CH3:1][O:2][C:3]([CH2:4][CH2:5][c:6]1[cH:7][c:8]([CH2:12][N:13]([CH2:14][c:15]2[cH:16][cH:17][c:18](-[c:21]3[cH:22][n:23][cH:24][n:25][cH:26]3)[cH:19][cH:20]2)[S:35]([c:30]2[n:29][cH:34][cH:33][cH:32][cH:31]2)(=[O:36])=[O:37])[cH:9][cH:10][cH:11]1)=[O:27]\n"
     ]
    }
   ],
   "source": [
    "compare_results(9, few_shot_results)"
   ]
  },
  {
   "cell_type": "code",
   "execution_count": 13,
   "metadata": {},
   "outputs": [],
   "source": [
    "for i in range(len(zero_shot_results['answers'])):\n",
    "    key = list(few_shot_results['indices'].keys())[i]\n",
    "    if zero_shot_results['answers'][key][0] == zero_shot_results['answers'][key][1]:\n",
    "        print(True)"
   ]
  },
  {
   "cell_type": "code",
   "execution_count": 14,
   "metadata": {},
   "outputs": [],
   "source": [
    "for i in range(len(few_shot_results['answers'])):\n",
    "    key = list(few_shot_results['indices'].keys())[i]\n",
    "    if few_shot_results['answers'][key][0] == few_shot_results['answers'][key][1]:\n",
    "        print(True)"
   ]
  },
  {
   "cell_type": "code",
   "execution_count": null,
   "metadata": {},
   "outputs": [],
   "source": []
  }
 ],
 "metadata": {
  "kernelspec": {
   "display_name": "chempe",
   "language": "python",
   "name": "python3"
  },
  "language_info": {
   "codemirror_mode": {
    "name": "ipython",
    "version": 3
   },
   "file_extension": ".py",
   "mimetype": "text/x-python",
   "name": "python",
   "nbconvert_exporter": "python",
   "pygments_lexer": "ipython3",
   "version": "3.11.3"
  },
  "orig_nbformat": 4
 },
 "nbformat": 4,
 "nbformat_minor": 2
}

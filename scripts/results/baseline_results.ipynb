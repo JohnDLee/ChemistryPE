{
 "cells": [
  {
   "cell_type": "code",
   "execution_count": 1,
   "metadata": {},
   "outputs": [],
   "source": [
    "# add chempe\n",
    "import sys\n",
    "sys.path.append('../..')\n"
   ]
  },
  {
   "attachments": {},
   "cell_type": "markdown",
   "metadata": {},
   "source": [
    "# Load Data"
   ]
  },
  {
   "cell_type": "code",
   "execution_count": 2,
   "metadata": {},
   "outputs": [],
   "source": [
    "import numpy as np\n",
    "import os"
   ]
  },
  {
   "cell_type": "code",
   "execution_count": 3,
   "metadata": {},
   "outputs": [],
   "source": [
    "# Loads results\n",
    "\n",
    "model = 'gpt-4'\n",
    "#model = 'gpt-3.5-turbo'\n",
    "\n",
    "load_path = lambda test: f\"../../results/{test}/{model}/{test}_results.npy\"\n",
    "zero_shot_path = load_path('zero_shot')\n",
    "few_shot_path = load_path('few_shot')\n",
    "zero_shot_results = np.load(zero_shot_path, allow_pickle=True).item()\n",
    "few_shot_results = np.load(few_shot_path, allow_pickle=True).item()\n",
    "sc_results = np.load(load_path('self_consistency'), allow_pickle=True, ).item()"
   ]
  },
  {
   "cell_type": "code",
   "execution_count": 4,
   "metadata": {},
   "outputs": [],
   "source": [
    "# Loads indices\n",
    "test_indices = np.load(\"../../data/test_indices.npy\", allow_pickle=True)\n",
    "# number of tests\n",
    "n = 20\n"
   ]
  },
  {
   "attachments": {},
   "cell_type": "markdown",
   "metadata": {},
   "source": [
    "# Evaluate Data"
   ]
  },
  {
   "cell_type": "code",
   "execution_count": 5,
   "metadata": {},
   "outputs": [],
   "source": [
    "import rdkit\n",
    "from rdkit import Chem\n",
    "import tqdm\n",
    "from chempe.data.warnings import disable_warnings, enable_warnings\n",
    "from collections import Counter\n"
   ]
  },
  {
   "cell_type": "code",
   "execution_count": null,
   "metadata": {},
   "outputs": [],
   "source": []
  },
  {
   "cell_type": "code",
   "execution_count": 57,
   "metadata": {},
   "outputs": [],
   "source": [
    "# evaluate results\n",
    "def eval_baseline(rez, warnings = False):\n",
    "    \"\"\"Only 1 result\"\"\"\n",
    "    if not warnings:\n",
    "        disable_warnings()\n",
    "        \n",
    "    top1 = 0\n",
    "    invalid = 0\n",
    "    res_type = [0] * n\n",
    "\n",
    "\n",
    "    for i in range(n):\n",
    "        # canonical gt\n",
    "        gt = Chem.CanonSmiles(rez['ground_truth'][test_indices[i]])\n",
    "        predicted = rez['predicted'][test_indices[i]][0]\n",
    "        try:\n",
    "            pred = Chem.CanonSmiles(predicted).split(\".\")\n",
    "            if gt in pred:\n",
    "                top1 += 1\n",
    "                res_type[i] = (1, pred, gt)\n",
    "            else:\n",
    "                res_type[i] = (-1, pred, gt)\n",
    "        except Exception as e:\n",
    "            # if failed to parse\n",
    "            invalid += 1\n",
    "            res_type[i] = (-2, None, gt)\n",
    "        \n",
    "    print(f\"Num correct: {top1}/{n}\")\n",
    "    print(f\"Num Invalid: {invalid}/{n}\")\n",
    "    \n",
    "    enable_warnings()\n",
    "    return res_type\n",
    "    \n",
    "def eval_sc(rez, warnings = False):\n",
    "    \"\"\"Use consistency\"\"\"\n",
    "    if not warnings:\n",
    "        disable_warnings()\n",
    "    \n",
    "    top1 = 0\n",
    "    top5 = 0\n",
    "    invalid = 0\n",
    "    res_type = [-1] * n\n",
    "    \n",
    "    def count_preds(predicted):\n",
    "        canon_pred = []\n",
    "        tmp = 0\n",
    "        for p in predicted:\n",
    "            try:\n",
    "                canon_pred.append(Chem.CanonSmiles(p))\n",
    "            except:\n",
    "                tmp += 1\n",
    "                pass\n",
    "        #print(tmp)\n",
    "        return Counter(canon_pred)\n",
    "        \n",
    "\n",
    "    for i in range(n):\n",
    "        # canonical gt\n",
    "        tmp5 = False\n",
    "        gt = Chem.CanonSmiles(rez['ground_truth'][test_indices[i]])\n",
    "        counter = count_preds(rez['predicted'][test_indices[i]])\n",
    "        if len(counter) == 0:\n",
    "            invalid += 1\n",
    "            res_type[i] = (-2, None, gt)\n",
    "            continue\n",
    "\n",
    "        # top 1\n",
    "        pred = counter.most_common()[0]\n",
    "        if gt in pred[0].split():\n",
    "            top1 += 1\n",
    "            res_type[i] = (1, pred[0].split(), gt)\n",
    "            continue\n",
    "        else:\n",
    "            res_type[i] = (-1, pred[0].split(), gt)\n",
    "        \n",
    "    print(f\"Top1 Correct: {top1}/{n}\")\n",
    "    print(f\"Num Invalid: {invalid}/{n}\")\n",
    "    \n",
    "    enable_warnings()\n",
    "    return res_type\n",
    "\n",
    "\n",
    "        "
   ]
  },
  {
   "cell_type": "code",
   "execution_count": 39,
   "metadata": {},
   "outputs": [
    {
     "name": "stdout",
     "output_type": "stream",
     "text": [
      "Num correct: 0/20\n",
      "Num Invalid: 4/20\n"
     ]
    }
   ],
   "source": [
    "# zero shot\n",
    "zero_shot_res_types = eval_baseline(zero_shot_results)"
   ]
  },
  {
   "cell_type": "code",
   "execution_count": 55,
   "metadata": {},
   "outputs": [
    {
     "name": "stdout",
     "output_type": "stream",
     "text": [
      "Num correct: 2/20\n",
      "Num Invalid: 3/20\n"
     ]
    }
   ],
   "source": [
    "# few shot results\n",
    "few_shot_res_types = eval_baseline(few_shot_results)"
   ]
  },
  {
   "cell_type": "code",
   "execution_count": 59,
   "metadata": {},
   "outputs": [
    {
     "name": "stdout",
     "output_type": "stream",
     "text": [
      "10\n",
      "7\n",
      "4\n",
      "15\n",
      "4\n",
      "17\n",
      "12\n",
      "14\n",
      "2\n",
      "13\n",
      "8\n",
      "17\n",
      "5\n",
      "8\n",
      "4\n",
      "8\n",
      "7\n",
      "6\n",
      "5\n",
      "12\n",
      "Top1 Correct: 1/20\n",
      "Num Invalid: 0/20\n"
     ]
    }
   ],
   "source": [
    "# self-consistency\n",
    "self_consistency_res_types = eval_sc(sc_results)"
   ]
  },
  {
   "attachments": {},
   "cell_type": "markdown",
   "metadata": {},
   "source": [
    "# Observe results"
   ]
  },
  {
   "cell_type": "code",
   "execution_count": 47,
   "metadata": {},
   "outputs": [],
   "source": [
    "def filter_res(res_type):\n",
    "    inc = list(filter(lambda x: x[0] == -1, res_type))\n",
    "    inv = list(filter(lambda x: x[0] == -2, res_type))\n",
    "    cor = list(filter(lambda x: x[0] == 1, res_type))\n",
    "    return cor, inc, inv"
   ]
  },
  {
   "attachments": {},
   "cell_type": "markdown",
   "metadata": {},
   "source": [
    "Zero Shot"
   ]
  },
  {
   "cell_type": "code",
   "execution_count": 48,
   "metadata": {},
   "outputs": [],
   "source": [
    "cor, inc, inv = filter_res(zero_shot_res_types)"
   ]
  },
  {
   "cell_type": "code",
   "execution_count": 50,
   "metadata": {},
   "outputs": [
    {
     "data": {
      "text/plain": [
       "0"
      ]
     },
     "execution_count": 50,
     "metadata": {},
     "output_type": "execute_result"
    }
   ],
   "source": [
    "# none correct\n",
    "len(cor)"
   ]
  },
  {
   "cell_type": "code",
   "execution_count": 53,
   "metadata": {},
   "outputs": [
    {
     "name": "stdout",
     "output_type": "stream",
     "text": [
      "['[CH:1]([CH3:2])([CH3:3])[NH:4][CH:5]([CH3:6])[CH3:7]', '[c:13]1([C:19](=[CH:20][CH2:21][C:22](=[O:23])[OH:24])[CH3:25])[cH:14][cH:15][cH:16][cH:17][cH:18]1']\n",
      "[CH:1]([CH3:2])([CH3:3])[CH:21]([CH:20]=[C:19]([c:13]1[cH:14][cH:15][cH:16][cH:17][cH:18]1)[CH3:25])[C:22](=[O:23])[OH:24]\n",
      "\n",
      "['[CH:1]1([CH3:15])[CH2:2][CH:3]([O:10][CH2:11][C:12](=[O:13])[OH:14])[CH:4]([CH:7]([CH3:8])[CH3:9])[CH2:5][CH2:6]1', '[Cl:16][C:17]([C:18](=[O:20])[O:21])=[O:20]']\n",
      "[CH:1]1([CH3:15])[CH2:2][CH:3]([O:10][CH2:11][C:12](=[O:13])[Cl:16])[CH:4]([CH:7]([CH3:8])[CH3:9])[CH2:5][CH2:6]1\n",
      "\n",
      "['[O:1]=[S:2]1(=[O:30])[N:3]=[C:4]([c:12]2[c:13](=[O:29])[n:14]([N:23]=[CH:24][CH2:25][CH2:26][CH2:27][CH3:28])[c:15]3[cH:16][cH:17][cH:18][cH:19][c:20]3[c:21]2[OH:22])[NH:5][c:6]2[c:7]1[cH:8][cH:9][cH:10][cH:11]2']\n",
      "[O:1]=[S:2]1(=[O:30])[N:3]=[C:4]([c:12]2[c:13](=[O:29])[n:14]([NH:23][CH2:24][CH2:25][CH2:26][CH2:27][CH3:28])[c:15]3[cH:16][cH:17][cH:18][cH:19][c:20]3[c:21]2[OH:22])[NH:5][c:6]2[c:7]1[cH:8][cH:9][cH:10][cH:11]2\n",
      "\n",
      "['[Br:1][c:2]1[s:3][c:4]([B:12]([OH:13])[OH:14])[c:5]([C:30](=[O:31])[CH3:32])[n:6]1']\n",
      "[c:2]1(-[c:8]2[s:7][cH:11][cH:10][cH:9]2)[s:3][cH:4][cH:5][n:6]1\n",
      "\n",
      "['[CH2:1]([c:2]1[cH:3][cH:4][cH:5][cH:6][cH:7]1)[O:8][CH:9]1[CH:10]([CH:52]=[O:55])[O:11][C:12]([O:31][CH2:58][O:59][CH2:60][CH2:61][O:62][CH2:63])([c:33]2[cH:34][c:35]([CH2:40][c:41]3[c:42]([F:51])[c:43]([F:50])[c:44]([O:47][CH2:48][CH3:49])[cH:45][cH:46]3)[c:36]([Cl:39])[cH:37][cH:38]2)[CH:13]([O:23][CH2:24][c:25]2[cH:26][cH:27][cH:28][cH:29][cH:30]2)[CH:14]1[O:15][CH2:16][c:17]1[cH:18][cH:19][cH:20][cH:21][cH:22]1']\n",
      "[CH2:1]([c:2]1[cH:3][cH:4][cH:5][cH:6][cH:7]1)[O:8][CH:9]1[C:10]([CH:52]=[O:53])([CH2:54][OH:55])[O:11][C:12]([O:31][CH3:32])([c:33]2[cH:34][c:35]([CH2:40][c:41]3[c:42]([F:51])[c:43]([F:50])[c:44]([O:47][CH2:48][CH3:49])[cH:45][cH:46]3)[c:36]([Cl:39])[cH:37][cH:38]2)[CH:13]([O:23][CH2:24][c:25]2[cH:26][cH:27][cH:28][cH:29][cH:30]2)[CH:14]1[O:15][CH2:16][c:17]1[cH:18][cH:19][cH:20][cH:21][cH:22]1\n",
      "\n",
      "['[CH:2]1([O:14][CH2:8][CH2:9][CH2:10][CH2:11][CH2:12][CH3:13])[CH:3]=[CH:4][C:5](=[O:7])[NH:6]1']\n",
      "[O:1]([CH:2]1[CH:3]=[CH:4][C:5](=[O:7])[NH:6]1)[CH2:8][CH2:9][CH2:10][CH2:11][CH2:12][CH3:13]\n",
      "\n",
      "['[Cl:1][c:2]1[o:3][c:4](-[c:7]2[cH:8][cH:9][c:10]([C:13]([F:14])([F:15])[F:16])[cH:11][cH:12]2)[cH:5][n:6]1', '[NH2:17][c:18]1[cH:19][c:20]([NH:24][S:25](=[O:26])(=[O:27])[CH2:28][c:29]2[cH:30][cH:31][cH:32][cH:33][cH:34]2)[cH:21][cH:22][c:23]1']\n",
      "[c:2]1([NH:17][c:18]2[cH:19][c:20]([NH:24][S:25](=[O:26])(=[O:27])[CH2:28][c:29]3[cH:30][cH:31][cH:32][cH:33][cH:34]3)[cH:21][cH:22][cH:23]2)[o:3][c:4](-[c:7]2[cH:8][cH:9][c:10]([C:13]([F:14])([F:15])[F:16])[cH:11][cH:12]2)[cH:5][n:6]1\n",
      "\n",
      "['[CH3:1][O:2][C:3]([CH2:4][CH2:5][c:6]1[cH:7][c:8]([CH2:12][NH:13][CH2:14][c:15]2[cH:16][cH:17][c:18](-[c:21]3[cH:22][n:23][cH:24][n:25][cH:26]3)[cH:19][cH:20]2)[cH:9][cH:10][cH:11]1)=[O:27]', '[n:29]1[c:30]([S:35](=[O:36])(=[O:37])[N:41]([CH2:42][CH3:43])[CH2:44][CH3:45])[cH:31][cH:32][cH:33][cH:34]1']\n",
      "[CH3:1][O:2][C:3]([CH2:4][CH2:5][c:6]1[cH:7][c:8]([CH2:12][N:13]([CH2:14][c:15]2[cH:16][cH:17][c:18](-[c:21]3[cH:22][n:23][cH:24][n:25][cH:26]3)[cH:19][cH:20]2)[S:35]([c:30]2[n:29][cH:34][cH:33][cH:32][cH:31]2)(=[O:36])=[O:37])[cH:9][cH:10][cH:11]1)=[O:27]\n",
      "\n",
      "['[C:2]1([O:30][CH2:29][CH3:28])[CH2:3][CH2:4][C:5]([c:8]2[cH:9][cH:10][c:11]([NH:14][C:15]([NH:16][C:17](=[O:18])[c:19]3[cH:20][cH:21][cH:22][cH:23][cH:24]3)=[S:25])[cH:12][cH:13]2)=[N:6][NH:7]1', '[O:1]=[C:2]1[CH2:3][CH2:4][C:5]([c:8]2[cH:9][cH:10][c:11]([NH:14][C:15]([NH:16][C:17](=[O:18])[c:19]3[cH:20][cH:21][cH:22][cH:23][cH:24]3)=[S:25])[cH:12][cH:13]2)=[N:6][NH:7]1']\n",
      "[O:1]=[C:2]1[CH2:3][CH2:4][C:5]([c:8]2[cH:9][cH:10][c:11]([NH:14][C:15]([NH2:16])=[S:25])[cH:12][cH:13]2)=[N:6][NH:7]1\n",
      "\n",
      "['[CH3:6][O:7][C:8](=[O:9])[CH:10]1[CH:11]([CH3:27])[O:12][CH:13]([CH3:26])[CH2:14][N:15]1[S:16](=[O:17])(=[O:18])[c:19]1[cH:20][cH:21][c:22]([O:23][CH2:24][C:25]#[C:26][CH3:27])[cH:23][cH:24]1']\n",
      "[CH2:2]([C:3]#[C:4][CH3:5])[O:25][c:22]1[cH:21][cH:20][c:19]([S:16]([N:15]2[CH:10]([C:8]([O:7][CH3:6])=[O:9])[CH:11]([CH3:27])[O:12][CH:13]([CH3:26])[CH2:14]2)(=[O:17])=[O:18])[cH:24][cH:23]1\n",
      "\n",
      "['[Br:1][c:2]1[c:3](-[c:12]2[cH:13][n:14][cH:15][cH:16][cH:17]2)[n:4][c:5]([NH2:11])[c:6]([N+:8](=[O:9])[O-:10])[cH:7]1', '[F:18][c:19]1[cH:20][n:21][cH:22][cH:23][c:24]1[Sn:25]([CH2:26][CH2:27][CH2:28][CH3:29])([CH2:30][CH2:31][CH2:32][CH3:33])[CH2:34][CH2:35][CH2:36][CH3:37]']\n",
      "[c:2]1(-[c:24]2[c:19]([F:18])[cH:20][n:21][cH:22][cH:23]2)[c:3](-[c:12]2[cH:13][n:14][cH:15][cH:16][cH:17]2)[n:4][c:5]([NH2:11])[c:6]([N+:8](=[O:9])[O-:10])[cH:7]1\n",
      "\n",
      "['[NH2:1][c:2]1[cH:3][cH:4][c:5]([F:17])[c:6](-[c:8]2[c:9]([C:15]#[N:16])[c:10]([F:14])[cH:11][cH:12][cH:13]2)[c:7]1[O:24][CH2:23][CH2:25][CH2:26][O:27][CH2:28]']\n",
      "[c:2]1([Br:22])[cH:3][cH:4][c:5]([F:17])[c:6](-[c:8]2[c:9]([C:15]#[N:16])[c:10]([F:14])[cH:11][cH:12][cH:13]2)[cH:7]1\n",
      "\n",
      "['[c:2]1([CH2:12][CH2:13][c:14]2[n:15][c:16]([CH:19]3[CH2:20][CH2:21][N:22]([C:25]([O:26][CH2:35][CH3:36])=[O:31])[CH2:23][CH2:24]3)[s:17][cH:18]2)[cH:3][cH:4][cH:5][c:6]2[cH:7][cH:8][cH:9][cH:10][c:11]12']\n",
      "[ClH:1].[c:2]1([CH2:12][CH2:13][c:14]2[n:15][c:16]([CH:19]3[CH2:20][CH2:21][NH:22][CH2:23][CH2:24]3)[s:17][cH:18]2)[cH:3][cH:4][cH:5][c:6]2[cH:7][cH:8][cH:9][cH:10][c:11]12\n",
      "\n",
      "['[CH:1]12[NH:2][CH:3]([CH2:7][NH:8][C:9](=[O:10])[c:11]3[c:12]([CH3:17])[n:13][o:14][c:15]3[CH3:16])[CH2:4][CH:5]1[CH2:6]2', '[NH2:18][c:19]1[s:20][c:21](-[c:27]2[cH:28][c:29]([F:33])[cH:30][cH:31][cH:32]2)[c:22]([C:24](=[O:25])[OH:26])[n:23]1']\n",
      "[CH:1]12[N:2]([C:24]([c:22]3[c:21](-[c:27]4[cH:28][c:29]([F:33])[cH:30][cH:31][cH:32]4)[s:20][c:19]([NH2:18])[n:23]3)=[O:25])[CH:3]([CH2:7][NH:8][C:9](=[O:10])[c:11]3[c:12]([CH3:17])[n:13][o:14][c:15]3[CH3:16])[CH2:4][CH:5]1[CH2:6]2\n",
      "\n",
      "['[CH2:1]([CH2:3][CH2:4][CH3:5])[C:12]([CH2:11][N:10]([CH2:9][CH2:8][O:7][CH3:6])[CH3:14])=[CH:13]']\n",
      "[CH3:6][O:7][CH2:8][CH2:9][N:10]([CH2:11][C:12]#[C:13][C:16](=[O:15])[OH:17])[CH3:14]\n",
      "\n",
      "['[C:1]([CH3:2])([CH3:3])([CH3:4])[Si:5]([O:6][CH2:7][CH2:8][n:9]1[n:10][cH:11][c:12]2[cH:13][c:14]([CH3:19])[c:15]([NH:18])[cH:16][c:17]12)([CH3:20])[CH3:21]', '[CH3:46][N:47]([c:48]1[cH:49][cH:50][n:51][cH:52][cH:53]1)[CH3:54]', '[F:23][c:24]1[cH:25][cH:26][c:27]([CH:30]2[C:31]([C:37](=[O:38])[OH:39])=[CH:32][NH:33][C:34](=[O:36])[CH2:35]2)[cH:28][cH:29]1']\n",
      "[C:1]([CH3:2])([CH3:3])([CH3:4])[Si:5]([O:6][CH2:7][CH2:8][n:9]1[n:10][cH:11][c:12]2[cH:13][c:14]([CH3:19])[c:15]([NH:18][C:37]([C:31]3=[CH:32][NH:33][C:34](=[O:36])[CH2:35][CH:30]3[c:27]3[cH:26][cH:25][c:24]([F:23])[cH:29][cH:28]3)=[O:38])[cH:16][c:17]12)([CH3:20])[CH3:21]\n",
      "\n"
     ]
    }
   ],
   "source": [
    "# check incorrect\n",
    "for _, p, gt in inc:\n",
    "    print(p)\n",
    "    print(gt)\n",
    "    print()"
   ]
  },
  {
   "attachments": {},
   "cell_type": "markdown",
   "metadata": {},
   "source": [
    "Few Shot"
   ]
  },
  {
   "cell_type": "code",
   "execution_count": 60,
   "metadata": {},
   "outputs": [],
   "source": [
    "cor, inc, inv = filter_res(few_shot_res_types)"
   ]
  },
  {
   "cell_type": "code",
   "execution_count": 61,
   "metadata": {},
   "outputs": [
    {
     "name": "stdout",
     "output_type": "stream",
     "text": [
      "['[O:1]=[S:2]1(=[O:30])[N:3]=[C:4]([c:12]2[c:13](=[O:29])[n:14]([NH:23][CH2:24][CH2:25][CH2:26][CH2:27][CH3:28])[c:15]3[cH:16][cH:17][cH:18][cH:19][c:20]3[c:21]2[OH:22])[NH:5][c:6]2[c:7]1[cH:8][cH:9][cH:10][cH:11]2']\n",
      "[O:1]=[S:2]1(=[O:30])[N:3]=[C:4]([c:12]2[c:13](=[O:29])[n:14]([NH:23][CH2:24][CH2:25][CH2:26][CH2:27][CH3:28])[c:15]3[cH:16][cH:17][cH:18][cH:19][c:20]3[c:21]2[OH:22])[NH:5][c:6]2[c:7]1[cH:8][cH:9][cH:10][cH:11]2\n",
      "\n",
      "['[CH2:2]([C:3]#[C:4][CH3:5])[O:25][c:22]1[cH:21][cH:20][c:19]([S:16]([N:15]2[CH:10]([C:8]([O:7][CH3:6])=[O:9])[CH:11]([CH3:27])[O:12][CH:13]([CH3:26])[CH2:14]2)(=[O:17])=[O:18])[cH:24][cH:23]1']\n",
      "[CH2:2]([C:3]#[C:4][CH3:5])[O:25][c:22]1[cH:21][cH:20][c:19]([S:16]([N:15]2[CH:10]([C:8]([O:7][CH3:6])=[O:9])[CH:11]([CH3:27])[O:12][CH:13]([CH3:26])[CH2:14]2)(=[O:17])=[O:18])[cH:24][cH:23]1\n",
      "\n"
     ]
    }
   ],
   "source": [
    "# cor\n",
    "for (_, p, gt) in cor:\n",
    "    print(p)\n",
    "    print(gt)\n",
    "    print()"
   ]
  },
  {
   "cell_type": "code",
   "execution_count": 62,
   "metadata": {},
   "outputs": [
    {
     "name": "stdout",
     "output_type": "stream",
     "text": [
      "['[CH:1]([CH3:2])([CH3:3])[NH:4][CH:5]([CH3:6])[CH3:7]', '[c:13]1([C:19](=[CH:20][CH2:21][C:22](=[O:23])[OH:24])[CH3:25])[cH:14][cH:15][cH:16][cH:17][cH:18]1']\n",
      "[CH:1]([CH3:2])([CH3:3])[CH:21]([CH:20]=[C:19]([c:13]1[cH:14][cH:15][cH:16][cH:17][cH:18]1)[CH3:25])[C:22](=[O:23])[OH:24]\n",
      "\n",
      "['[CH:1]1([CH3:15])[CH2:2][CH:3]([O:10][CH2:11][C:12](=[O:13])[O:21][C:17]([Cl:16])[C:18]([Cl:19])=[O:20])[CH:4]([CH:7]([CH3:8])[CH3:9])[CH2:5][CH2:6]1']\n",
      "[CH:1]1([CH3:15])[CH2:2][CH:3]([O:10][CH2:11][C:12](=[O:13])[Cl:16])[CH:4]([CH:7]([CH3:8])[CH3:9])[CH2:5][CH2:6]1\n",
      "\n",
      "['[c:2]1([O:20][C:18]([O:17])=[O:19])[s:3][cH:4][cH:5][n:6]1']\n",
      "[c:2]1(-[c:8]2[s:7][cH:11][cH:10][cH:9]2)[s:3][cH:4][cH:5][n:6]1\n",
      "\n",
      "['[CH2:1]([c:2]1[cH:3][cH:4][cH:5][cH:6][cH:7]1)[O:8][CH:9]1[CH:10]([CH:52]=[O:53])[O:11][C:12]([O:31][CH3:32])([c:33]2[cH:34][c:35]([CH2:40][c:41]3[c:42]([F:51])[c:43]([F:50])[c:44]([O:47][CH2:48][CH3:49])[cH:45][cH:46]3)[c:36]([Cl:39])[cH:37][cH:38]2)[CH:13]([O:23][CH2:24][c:25]2[cH:26][cH:27][cH:28][cH:29][cH:30]2)[CH:14]1[O:15][CH2:16][c:17]1[cH:18][cH:19][cH:20][cH:21][cH:22]1']\n",
      "[CH2:1]([c:2]1[cH:3][cH:4][cH:5][cH:6][cH:7]1)[O:8][CH:9]1[C:10]([CH:52]=[O:53])([CH2:54][OH:55])[O:11][C:12]([O:31][CH3:32])([c:33]2[cH:34][c:35]([CH2:40][c:41]3[c:42]([F:51])[c:43]([F:50])[c:44]([O:47][CH2:48][CH3:49])[cH:45][cH:46]3)[c:36]([Cl:39])[cH:37][cH:38]2)[CH:13]([O:23][CH2:24][c:25]2[cH:26][cH:27][cH:28][cH:29][cH:30]2)[CH:14]1[O:15][CH2:16][c:17]1[cH:18][cH:19][cH:20][cH:21][cH:22]1\n",
      "\n",
      "['[CH:2]1([O:14][CH2:8][CH2:9][CH2:10][CH2:11][CH2:12][CH3:13])[CH:3]=[CH:4][C:5](=[O:7])[NH:6]1']\n",
      "[O:1]([CH:2]1[CH:3]=[CH:4][C:5](=[O:7])[NH:6]1)[CH2:8][CH2:9][CH2:10][CH2:11][CH2:12][CH3:13]\n",
      "\n",
      "['[Cl:1][c:2]1[o:3][c:4](-[c:7]2[cH:8][cH:9][c:10]([C:13]([F:14])([F:15])[F:16])[cH:11][cH:12]2)[cH:5][n:6]1', '[NH2:17][c:18]1[cH:19][c:20]([NH:24][S:25](=[O:26])(=[O:27])[CH2:28][c:29]2[cH:30][cH:31][cH:32][cH:33][cH:34]2)[cH:21][cH:22][cH:23]1']\n",
      "[c:2]1([NH:17][c:18]2[cH:19][c:20]([NH:24][S:25](=[O:26])(=[O:27])[CH2:28][c:29]3[cH:30][cH:31][cH:32][cH:33][cH:34]3)[cH:21][cH:22][cH:23]2)[o:3][c:4](-[c:7]2[cH:8][cH:9][c:10]([C:13]([F:14])([F:15])[F:16])[cH:11][cH:12]2)[cH:5][n:6]1\n",
      "\n",
      "['[CH3:1][O:2][C:3]([CH2:4][CH2:5][c:6]1[cH:7][c:8]([CH2:12][NH:13][CH2:14][c:15]2[cH:16][cH:17][c:18](-[c:21]3[cH:22][n:23][cH:24][n:25][cH:26]3)[cH:19][cH:20]2)[cH:9][cH:10][cH:11]1)=[O:27]', '[n:29]1[c:30]([S:35](=[O:36])(=[O:37])[CH3:39])[cH:31][cH:32][cH:33][cH:34]1']\n",
      "[CH3:1][O:2][C:3]([CH2:4][CH2:5][c:6]1[cH:7][c:8]([CH2:12][N:13]([CH2:14][c:15]2[cH:16][cH:17][c:18](-[c:21]3[cH:22][n:23][cH:24][n:25][cH:26]3)[cH:19][cH:20]2)[S:35]([c:30]2[n:29][cH:34][cH:33][cH:32][cH:31]2)(=[O:36])=[O:37])[cH:9][cH:10][cH:11]1)=[O:27]\n",
      "\n",
      "['[CH2:34]([CH3:35])[O:36][c:37]1[c:38]([NH2:39])[cH:40][cH:41][c:42]([N:44]2[CH2:45][CH2:46][N:47]([CH2:50][CH2:51][CH3:52])[CH2:48][CH2:49]2)[cH:43]1', '[Cl:1][c:2]1[n:3][cH:4][cH:5][c:6](-[c:8]2[c:9](-[c:17]3[cH:18][c:19]([C:20](=[O:21])[NH:22][c:23]4[c:24]([F:30])[cH:25][cH:26][cH:27][c:28]4[F:29])[cH:31][cH:32][cH:33]3)[n:10][c:11]3[n:12]2[cH:13][cH:14][cH:15][cH:16]3)[n:7]1']\n",
      "[c:2]1([NH:39][c:38]2[c:37]([O:36][CH2:34][CH3:35])[cH:43][c:42]([N:44]3[CH2:45][CH2:46][N:47]([CH2:50][CH2:51][CH3:52])[CH2:48][CH2:49]3)[cH:41][cH:40]2)[n:3][cH:4][cH:5][c:6](-[c:8]2[c:9](-[c:17]3[cH:18][c:19]([C:20](=[O:21])[NH:22][c:23]4[c:24]([F:30])[cH:25][cH:26][cH:27][c:28]4[F:29])[cH:31][cH:32][cH:33]3)[n:10][c:11]3[n:12]2[cH:13][cH:14][cH:15][cH:16]3)[n:7]1\n",
      "\n",
      "['[Br:1][c:2]1[c:3](-[c:12]2[cH:13][n:14][cH:15][cH:16][cH:17]2)[n:4][c:5]([NH2:11])[c:6]([N+:8](=[O:9])[O-:10])[c:7]1', '[F:18][c:19]1[cH:20][n:21][cH:22][cH:23][c:24]1[Sn:25]([CH2:26][CH2:27][CH2:28][CH3:29])([CH2:30][CH2:31][CH2:32][CH3:33])[CH2:34][CH2:35][CH2:36][CH3:37]']\n",
      "[c:2]1(-[c:24]2[c:19]([F:18])[cH:20][n:21][cH:22][cH:23]2)[c:3](-[c:12]2[cH:13][n:14][cH:15][cH:16][cH:17]2)[n:4][c:5]([NH2:11])[c:6]([N+:8](=[O:9])[O-:10])[cH:7]1\n",
      "\n",
      "['[NH2:1][c:2]1[cH:3][cH:4][c:5]([F:17])[c:6](-[c:8]2[c:9]([C:15]#[N:16])[c:10]([F:14])[cH:11][cH:12][cH:13]2)[cH:7]1']\n",
      "[c:2]1([Br:22])[cH:3][cH:4][c:5]([F:17])[c:6](-[c:8]2[c:9]([C:15]#[N:16])[c:10]([F:14])[cH:11][cH:12][cH:13]2)[cH:7]1\n",
      "\n",
      "['[c:2]1([CH2:12][CH2:13][c:14]2[n:15][c:16]([CH:19]3[CH2:20][CH2:21][NH:22][CH2:23][CH2:24]3)[s:17][cH:18]2)[cH:3][cH:4][cH:5][c:6]2[cH:7][cH:8][cH:9][cH:10][c:11]12']\n",
      "[ClH:1].[c:2]1([CH2:12][CH2:13][c:14]2[n:15][c:16]([CH:19]3[CH2:20][CH2:21][NH:22][CH2:23][CH2:24]3)[s:17][cH:18]2)[cH:3][cH:4][cH:5][c:6]2[cH:7][cH:8][cH:9][cH:10][c:11]12\n",
      "\n",
      "['[OH:5][C:20]([S:19][CH3:18])=[N:21][c:6]1[cH:7][cH:8][cH:9][cH:10][cH:11]1']\n",
      "[OH:5][c:6]1[c:7]([C:20]#[N:21])[cH:8][cH:9][cH:10][cH:11]1\n",
      "\n",
      "['[CH:1]12[NH:2][CH:3]([CH2:7][NH:8][C:9](=[O:10])[c:11]3[c:12]([CH3:17])[n:13][o:14][c:15]3[CH3:16])[CH2:4][CH:5]1[N:18]1[CH2:6][CH:32]=[CH:31][CH:30]=[C:29]([F:33])[CH:28]=[C:27]2[c:21]2[s:20][c:19]1[n:23][c:22]2[C:24](=[O:25])[OH:26]']\n",
      "[CH:1]12[N:2]([C:24]([c:22]3[c:21](-[c:27]4[cH:28][c:29]([F:33])[cH:30][cH:31][cH:32]4)[s:20][c:19]([NH2:18])[n:23]3)=[O:25])[CH:3]([CH2:7][NH:8][C:9](=[O:10])[c:11]3[c:12]([CH3:17])[n:13][o:14][c:15]3[CH3:16])[CH2:4][CH:5]1[CH2:6]2\n",
      "\n",
      "['[CH3:6][O:7][CH2:8][CH2:9][N:10]([CH2:11][C:12](=[O:17])[CH3:30])[CH3:14]']\n",
      "[CH3:6][O:7][CH2:8][CH2:9][N:10]([CH2:11][C:12]#[C:13][C:16](=[O:15])[OH:17])[CH3:14]\n",
      "\n",
      "['[C:1]([CH3:2])([CH3:3])([CH3:4])[Si:5]([O:6][CH2:7][CH2:8][n:9]1[n:10][cH:11][c:12]2[cH:13][c:14]([CH3:19])[c:15]([NH:18][c:24]3[cH:25][cH:26][c:27]([CH:30]4[C:31]([C:37](=[O:38])[OH:39])=[CH:32][NH:33][C:34](=[O:36])[CH2:35]4)[cH:28][cH:29]3)[cH:16][c:17]12)([CH3:20])[CH3:21]']\n",
      "[C:1]([CH3:2])([CH3:3])([CH3:4])[Si:5]([O:6][CH2:7][CH2:8][n:9]1[n:10][cH:11][c:12]2[cH:13][c:14]([CH3:19])[c:15]([NH:18][C:37]([C:31]3=[CH:32][NH:33][C:34](=[O:36])[CH2:35][CH:30]3[c:27]3[cH:26][cH:25][c:24]([F:23])[cH:29][cH:28]3)=[O:38])[cH:16][c:17]12)([CH3:20])[CH3:21]\n",
      "\n"
     ]
    }
   ],
   "source": [
    "# cor\n",
    "for (_, p, gt) in inc:\n",
    "    print(p)\n",
    "    print(gt)\n",
    "    print()"
   ]
  },
  {
   "attachments": {},
   "cell_type": "markdown",
   "metadata": {},
   "source": [
    "Self Consistency"
   ]
  },
  {
   "cell_type": "code",
   "execution_count": 67,
   "metadata": {},
   "outputs": [],
   "source": [
    "cor, inc, inv = filter_res(self_consistency_res_types)"
   ]
  },
  {
   "cell_type": "code",
   "execution_count": 68,
   "metadata": {},
   "outputs": [
    {
     "name": "stdout",
     "output_type": "stream",
     "text": [
      "['[c:2]1([NH:17][c:18]2[cH:19][c:20]([NH:24][S:25](=[O:26])(=[O:27])[CH2:28][c:29]3[cH:30][cH:31][cH:32][cH:33][cH:34]3)[cH:21][cH:22][cH:23]2)[o:3][c:4](-[c:7]2[cH:8][cH:9][c:10]([C:13]([F:14])([F:15])[F:16])[cH:11][cH:12]2)[cH:5][n:6]1']\n",
      "[c:2]1([NH:17][c:18]2[cH:19][c:20]([NH:24][S:25](=[O:26])(=[O:27])[CH2:28][c:29]3[cH:30][cH:31][cH:32][cH:33][cH:34]3)[cH:21][cH:22][cH:23]2)[o:3][c:4](-[c:7]2[cH:8][cH:9][c:10]([C:13]([F:14])([F:15])[F:16])[cH:11][cH:12]2)[cH:5][n:6]1\n",
      "\n"
     ]
    }
   ],
   "source": [
    "# cor\n",
    "for (_, p, gt) in cor:\n",
    "    print(p)\n",
    "    print(gt)\n",
    "    print()"
   ]
  },
  {
   "cell_type": "code",
   "execution_count": 69,
   "metadata": {},
   "outputs": [
    {
     "name": "stdout",
     "output_type": "stream",
     "text": [
      "['[CH:1]([CH3:2])([CH3:3])[NH:4][CH:5]([CH3:6])[CH3:7].[c:13]1([C:19](=[CH:20][CH2:21][C:22](=[O:23])[OH:24])[CH3:25])[cH:14][cH:15][cH:16][cH:17][cH:18]1']\n",
      "[CH:1]([CH3:2])([CH3:3])[CH:21]([CH:20]=[C:19]([c:13]1[cH:14][cH:15][cH:16][cH:17][cH:18]1)[CH3:25])[C:22](=[O:23])[OH:24]\n",
      "\n",
      "['[CH:1]1([CH3:15])[CH2:2][CH:3]([O:10][CH2:11][C:12](=[O:13])[OH:14])[CH:4]([C:17]([C:18]([Cl:19])=[O:20])=[O:21])[CH2:5][CH2:6]1']\n",
      "[CH:1]1([CH3:15])[CH2:2][CH:3]([O:10][CH2:11][C:12](=[O:13])[Cl:16])[CH:4]([CH:7]([CH3:8])[CH3:9])[CH2:5][CH2:6]1\n",
      "\n",
      "['[O:1]=[S:2]1(=[O:30])[N:3]=[C:4]([c:12]2[c:13](=[O:29])[n:14]([NH2:23])[c:15]3[cH:16][cH:17][cH:18][cH:19][c:20]3[c:21]2[OH:22])[NH:5][c:6]2[c:7]1[cH:8][cH:9][cH:10][cH:11]2']\n",
      "[O:1]=[S:2]1(=[O:30])[N:3]=[C:4]([c:12]2[c:13](=[O:29])[n:14]([NH:23][CH2:24][CH2:25][CH2:26][CH2:27][CH3:28])[c:15]3[cH:16][cH:17][cH:18][cH:19][c:20]3[c:21]2[OH:22])[NH:5][c:6]2[c:7]1[cH:8][cH:9][cH:10][cH:11]2\n",
      "\n",
      "['[c:2]1([O:25][CH2:21][CH2:22][O:23][CH3:24])[s:3][cH:4][cH:5][n:6]1']\n",
      "[c:2]1(-[c:8]2[s:7][cH:11][cH:10][cH:9]2)[s:3][cH:4][cH:5][n:6]1\n",
      "\n",
      "['[CH2:1]([c:2]1[cH:3][cH:4][cH:5][cH:6][cH:7]1)[O:8][CH:9]1[CH:10]([CH:52]=[O:53])[O:11][C:12]([O:31][CH3:32])([c:33]2[cH:34][c:35]([CH2:40][c:41]3[c:42]([F:51])[c:43]([F:50])[c:44]([O:47][CH2:48][CH3:49])[cH:45][cH:46]3)[c:36]([Cl:39])[cH:37][cH:38]2)[CH:13]([O:23][CH2:24][c:25]2[cH:26][cH:27][cH:28][cH:29][cH:30]2)[CH:14]1[O:15][CH2:16][c:17]1[cH:18][cH:19][cH:20][cH:21][cH:22]1']\n",
      "[CH2:1]([c:2]1[cH:3][cH:4][cH:5][cH:6][cH:7]1)[O:8][CH:9]1[C:10]([CH:52]=[O:53])([CH2:54][OH:55])[O:11][C:12]([O:31][CH3:32])([c:33]2[cH:34][c:35]([CH2:40][c:41]3[c:42]([F:51])[c:43]([F:50])[c:44]([O:47][CH2:48][CH3:49])[cH:45][cH:46]3)[c:36]([Cl:39])[cH:37][cH:38]2)[CH:13]([O:23][CH2:24][c:25]2[cH:26][cH:27][cH:28][cH:29][cH:30]2)[CH:14]1[O:15][CH2:16][c:17]1[cH:18][cH:19][cH:20][cH:21][cH:22]1\n",
      "\n",
      "['[CH:2]1([O:14][CH2:8][CH2:9][CH2:10][CH2:11][CH2:12][CH3:13])[CH:3]=[CH:4][C:5](=[O:7])[NH:6]1']\n",
      "[O:1]([CH:2]1[CH:3]=[CH:4][C:5](=[O:7])[NH:6]1)[CH2:8][CH2:9][CH2:10][CH2:11][CH2:12][CH3:13]\n",
      "\n",
      "['[Cl:1][c:2]1[c:3]([NH2:4])[cH:5][cH:6][c:7]([N+:9](=[O:10])[O-:11])[c:8]1[C:14]([CH2:13][Cl:12])=[O:15]']\n",
      "[Cl:1][c:2]1[c:3]([NH:4][C:14]([CH2:13][Cl:12])=[O:15])[cH:5][cH:6][c:7]([N+:9](=[O:10])[O-:11])[cH:8]1\n",
      "\n",
      "['[CH3:1][C:2]1=[CH:3][CH:4]=[CH:5][CH:6]=[C:7]([Br:8])[c:9]2[cH:10][c:11]([N+:22](=[O:23])[O-:24])[c:12]([C:13](=[O:14])[O:15][C:16]([CH3:17])([CH3:18])[CH3:19])[cH:20][c:21]2[CH:7]1']\n",
      "[c:2]1(-[c:9]2[cH:10][c:11]([N+:22](=[O:23])[O-:24])[c:12]([C:13](=[O:14])[O:15][C:16]([CH3:17])([CH3:18])[CH3:19])[cH:20][cH:21]2)[cH:3][cH:4][cH:5][cH:6][cH:7]1\n",
      "\n",
      "['[CH3:1][O:2][C:3]([CH2:4][CH2:5][c:6]1[cH:7][c:8]([CH2:12][NH:13][CH2:14][c:15]2[cH:16][cH:17][c:18](-[c:21]3[cH:22][n:23][cH:24][n:25][cH:26]3)[cH:19][cH:20]2)[cH:9][cH:10][cH:11]1)=[O:27]']\n",
      "[CH3:1][O:2][C:3]([CH2:4][CH2:5][c:6]1[cH:7][c:8]([CH2:12][N:13]([CH2:14][c:15]2[cH:16][cH:17][c:18](-[c:21]3[cH:22][n:23][cH:24][n:25][cH:26]3)[cH:19][cH:20]2)[S:35]([c:30]2[n:29][cH:34][cH:33][cH:32][cH:31]2)(=[O:36])=[O:37])[cH:9][cH:10][cH:11]1)=[O:27]\n",
      "\n",
      "['[CH2:34]([CH3:35])[O:36][c:37]1[c:38]([NH2:39])[cH:40][cH:41][c:42]([N:44]2[CH2:45][CH2:46][N:47]([CH2:50][CH2:51][CH3:52])[CH2:48][CH2:49]2)[cH:43]1.[Cl:1][c:2]1[n:3][cH:4][cH:5][c:6](-[c:8]2[c:9](-[c:17]3[cH:18][c:19]([C:20](=[O:21])[NH:22][c:23]4[c:24]([F:30])[cH:25][cH:26][cH:27][c:28]4[F:29])[cH:31][cH:32][cH:33]3)[n:10][c:11]3[n:12]2[cH:13][cH:14][cH:15][cH:16]3)[n:7]1']\n",
      "[c:2]1([NH:39][c:38]2[c:37]([O:36][CH2:34][CH3:35])[cH:43][c:42]([N:44]3[CH2:45][CH2:46][N:47]([CH2:50][CH2:51][CH3:52])[CH2:48][CH2:49]3)[cH:41][cH:40]2)[n:3][cH:4][cH:5][c:6](-[c:8]2[c:9](-[c:17]3[cH:18][c:19]([C:20](=[O:21])[NH:22][c:23]4[c:24]([F:30])[cH:25][cH:26][cH:27][c:28]4[F:29])[cH:31][cH:32][cH:33]3)[n:10][c:11]3[n:12]2[cH:13][cH:14][cH:15][cH:16]3)[n:7]1\n",
      "\n",
      "['[O:1]=[C:2]1[CH2:3][CH2:4][C:5]([c:8]2[cH:9][cH:10][c:11]([NH:14][C:15]([NH:16][C:17](=[O:18])[c:19]3[cH:20][cH:21][cH:22][cH:23][cH:24]3)=[S:25])[cH:12][cH:13]2)=[N:6][NH:7]1']\n",
      "[O:1]=[C:2]1[CH2:3][CH2:4][C:5]([c:8]2[cH:9][cH:10][c:11]([NH:14][C:15]([NH2:16])=[S:25])[cH:12][cH:13]2)=[N:6][NH:7]1\n",
      "\n",
      "['[CH:2]([C:3]#[C:4][CH3:5])([CH3:5])[O:7][c:22]1[cH:21][cH:20][c:19]([S:16]([N:15]2[CH:10]([C:8]([O:7][CH3:6])=[O:9])[CH:11]([CH3:27])[O:12][CH:13]([CH3:26])[CH2:14]2)(=[O:17])=[O:18])[cH:24][cH:23]1']\n",
      "[CH2:2]([C:3]#[C:4][CH3:5])[O:25][c:22]1[cH:21][cH:20][c:19]([S:16]([N:15]2[CH:10]([C:8]([O:7][CH3:6])=[O:9])[CH:11]([CH3:27])[O:12][CH:13]([CH3:26])[CH2:14]2)(=[O:17])=[O:18])[cH:24][cH:23]1\n",
      "\n",
      "['[Br:1][c:2]1[c:3](-[c:12]2[cH:13][n:14][cH:15][cH:16][cH:17]2)[n:4][c:5]([NH2:11])[c:6]([N+:8](=[O:9])[O-:10])[c:7]1[F:18].[c:19]1[cH:20][n:21][cH:22][cH:23][c:24]1[Sn:25]([CH2:26][CH2:27][CH2:28][CH3:29])([CH2:30][CH2:31][CH2:32][CH3:33])[CH2:34][CH2:35][CH2:36][CH3:37]']\n",
      "[c:2]1(-[c:24]2[c:19]([F:18])[cH:20][n:21][cH:22][cH:23]2)[c:3](-[c:12]2[cH:13][n:14][cH:15][cH:16][cH:17]2)[n:4][c:5]([NH2:11])[c:6]([N+:8](=[O:9])[O-:10])[cH:7]1\n",
      "\n",
      "['[NH2:1][c:2]1[cH:3][cH:4][c:5]([F:17])[c:6](-[c:8]2[c:9]([C:15]#[N:16])[c:10]([F:14])[cH:11][cH:12][cH:13]2)[c:7]1[CH2:23][O:24][CH2:25][CH2:26][O:27][CH2:28]']\n",
      "[c:2]1([Br:22])[cH:3][cH:4][c:5]([F:17])[c:6](-[c:8]2[c:9]([C:15]#[N:16])[c:10]([F:14])[cH:11][cH:12][cH:13]2)[cH:7]1\n",
      "\n",
      "['[c:2]1([CH2:12][CH2:13][c:14]2[n:15][c:16]([CH:19]3[CH2:20][CH2:21][N:22]([C:25]([O:26][CH2:33][CH3:32])=[O:31])[CH2:23][CH2:24]3)[s:17][cH:18]2)[cH:3][cH:4][cH:5][c:6]2[cH:7][cH:8][cH:9][cH:10][c:11]12']\n",
      "[ClH:1].[c:2]1([CH2:12][CH2:13][c:14]2[n:15][c:16]([CH:19]3[CH2:20][CH2:21][NH:22][CH2:23][CH2:24]3)[s:17][cH:18]2)[cH:3][cH:4][cH:5][c:6]2[cH:7][cH:8][cH:9][cH:10][c:11]12\n",
      "\n",
      "['[CH3:18][S:19][C:20]#[N:21].[OH:5][c:6]1[cH:7][cH:8][cH:9][cH:10][cH:11]1']\n",
      "[OH:5][c:6]1[c:7]([C:20]#[N:21])[cH:8][cH:9][cH:10][cH:11]1\n",
      "\n",
      "['[CH:1]12[NH:2][CH:3]([CH2:7][NH:8][C:9](=[O:10])[c:11]3[c:12]([CH3:17])[n:13][o:14][c:15]3[CH3:16])[CH2:4][CH:5]1[CH2:6]2.[NH2:18][c:19]1[s:20][c:21](-[c:27]2[cH:28][c:29]([F:33])[cH:30][cH:31][cH:32]2)[c:22]([C:24](=[O:25])[NH:26])[n:23]1']\n",
      "[CH:1]12[N:2]([C:24]([c:22]3[c:21](-[c:27]4[cH:28][c:29]([F:33])[cH:30][cH:31][cH:32]4)[s:20][c:19]([NH2:18])[n:23]3)=[O:25])[CH:3]([CH2:7][NH:8][C:9](=[O:10])[c:11]3[c:12]([CH3:17])[n:13][o:14][c:15]3[CH3:16])[CH2:4][CH:5]1[CH2:6]2\n",
      "\n",
      "['[CH3:6][O:7][CH2:8][CH2:9][N:10]([CH2:11][C:12]([CH3:14])=[O:17])[CH3:14]']\n",
      "[CH3:6][O:7][CH2:8][CH2:9][N:10]([CH2:11][C:12]#[C:13][C:16](=[O:15])[OH:17])[CH3:14]\n",
      "\n",
      "['[C:1]([CH3:2])([CH3:3])([CH3:4])[Si:5]([O:6][CH2:7][CH2:8][n:9]1[n:10][cH:11][c:12]2[cH:13][c:14]([CH3:19])[c:15]([NH2:18])[cH:16][c:17]12)([CH3:20])[CH3:21].[F:23][c:24]1[cH:25][cH:26][c:27]([CH:30]2[C:31]([C:37](=[O:38])[OH:39])=[CH:32][NH:33][C:34](=[O:36])[CH2:35]2)[cH:28][cH:29]1']\n",
      "[C:1]([CH3:2])([CH3:3])([CH3:4])[Si:5]([O:6][CH2:7][CH2:8][n:9]1[n:10][cH:11][c:12]2[cH:13][c:14]([CH3:19])[c:15]([NH:18][C:37]([C:31]3=[CH:32][NH:33][C:34](=[O:36])[CH2:35][CH:30]3[c:27]3[cH:26][cH:25][c:24]([F:23])[cH:29][cH:28]3)=[O:38])[cH:16][c:17]12)([CH3:20])[CH3:21]\n",
      "\n"
     ]
    }
   ],
   "source": [
    "# inc\n",
    "for (_, p, gt) in inc:\n",
    "    print(p)\n",
    "    print(gt)\n",
    "    print()"
   ]
  },
  {
   "cell_type": "code",
   "execution_count": null,
   "metadata": {},
   "outputs": [],
   "source": []
  }
 ],
 "metadata": {
  "kernelspec": {
   "display_name": "chempe",
   "language": "python",
   "name": "python3"
  },
  "language_info": {
   "codemirror_mode": {
    "name": "ipython",
    "version": 3
   },
   "file_extension": ".py",
   "mimetype": "text/x-python",
   "name": "python",
   "nbconvert_exporter": "python",
   "pygments_lexer": "ipython3",
   "version": "3.11.3"
  },
  "orig_nbformat": 4
 },
 "nbformat": 4,
 "nbformat_minor": 2
}

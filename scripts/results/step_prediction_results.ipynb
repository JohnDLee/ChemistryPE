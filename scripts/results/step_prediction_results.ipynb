{
 "cells": [
  {
   "cell_type": "code",
   "execution_count": 1,
   "metadata": {},
   "outputs": [],
   "source": [
    "# add chempe\n",
    "import sys\n",
    "sys.path.append('../..')\n"
   ]
  },
  {
   "cell_type": "code",
   "execution_count": 2,
   "metadata": {},
   "outputs": [],
   "source": [
    "import numpy as np\n",
    "import os"
   ]
  },
  {
   "cell_type": "code",
   "execution_count": null,
   "metadata": {},
   "outputs": [],
   "source": []
  },
  {
   "attachments": {},
   "cell_type": "markdown",
   "metadata": {},
   "source": [
    "# Step 1 Prediction"
   ]
  },
  {
   "cell_type": "code",
   "execution_count": 3,
   "metadata": {},
   "outputs": [],
   "source": [
    "import rdkit\n",
    "from rdkit import Chem\n",
    "import tqdm\n",
    "from chempe.data.warnings import disable_warnings, enable_warnings\n",
    "from collections import Counter\n"
   ]
  },
  {
   "cell_type": "code",
   "execution_count": 4,
   "metadata": {},
   "outputs": [],
   "source": [
    "#model = 'gpt-4'\n",
    "model = 'gpt-4'\n",
    "\n",
    "s1_pred_path = f'../../results/step1_prediction/{model}/step1_prediction_results.npy'\n",
    "s1_results = np.load(s1_pred_path, allow_pickle=True).item()\n",
    "s1_pred_sc_path = f'../../results/step1_prediction_sc/{model}/step1_prediction_sc_results.npy'\n",
    "s1_sc_results = np.load(s1_pred_sc_path, allow_pickle=True).item()\n",
    "s1_pred_zs_path = f'../../results/step1_prediction_zs/gpt-4/step1_prediction_zs_results.npy'\n",
    "s1_zs_results = np.load(s1_pred_zs_path, allow_pickle=True).item()"
   ]
  },
  {
   "cell_type": "code",
   "execution_count": 5,
   "metadata": {},
   "outputs": [],
   "source": [
    "# Loads indices\n",
    "test_indices = np.load(\"../../data/test_indices.npy\", allow_pickle=True)\n",
    "# number of tests\n",
    "n = 20"
   ]
  },
  {
   "cell_type": "code",
   "execution_count": 54,
   "metadata": {},
   "outputs": [],
   "source": [
    "# evaluate results\n",
    "def eval_baseline(rez, warnings = False):\n",
    "    \"\"\"Only 1 result\"\"\"\n",
    "    if not warnings:\n",
    "        disable_warnings()\n",
    "        \n",
    "    top1 = 0\n",
    "    invalid = 0\n",
    "    res_type = [0] * n\n",
    "\n",
    "\n",
    "    for i in range(n):\n",
    "        # canonical gt\n",
    "        #gt = Chem.CanonSmiles(rez['ground_truth'][test_indices[i]])\n",
    "        gt = rez['ground_truth'][test_indices[i]]\n",
    "        predicted = rez['predicted'][test_indices[i]][0]\n",
    "        try:\n",
    "            pred = Chem.CanonSmiles(predicted)\n",
    "            if gt == pred:\n",
    "                top1 += 1\n",
    "                res_type[i] = (1, pred, gt)\n",
    "            else:\n",
    "                res_type[i] = (-1, pred, gt)\n",
    "        except Exception as e:\n",
    "            # if failed to parse\n",
    "            invalid += 1\n",
    "            res_type[i] = (-2, None, gt)\n",
    "        \n",
    "    print(f\"Num correct: {top1}/{n}\")\n",
    "    print(f\"Num Invalid: {invalid}/{n}\")\n",
    "    \n",
    "    enable_warnings()\n",
    "    return res_type\n",
    "    \n",
    "def eval_sc(rez, warnings = False):\n",
    "    \"\"\"Use consistency\"\"\"\n",
    "    if not warnings:\n",
    "        disable_warnings()\n",
    "    \n",
    "    top1 = 0\n",
    "    top5 = 0\n",
    "    invalid = 0\n",
    "    res_type = [-1] * n\n",
    "    counts = []\n",
    "    \n",
    "    def count_preds(predicted):\n",
    "        canon_pred = []\n",
    "        tmp = 0\n",
    "        for p in predicted:\n",
    "            try:\n",
    "                canon_pred.append(Chem.CanonSmiles(p))\n",
    "            except:\n",
    "                tmp += 1\n",
    "                pass\n",
    "        #print(tmp)\n",
    "        return Counter(canon_pred)\n",
    "        \n",
    "\n",
    "    for i in range(n):\n",
    "        # canonical gt\n",
    "        gt = Chem.CanonSmiles(rez['ground_truth'][test_indices[i]])\n",
    "        counter = count_preds(rez['predicted'][test_indices[i]])\n",
    "        if len(counter) == 0:\n",
    "            invalid += 1\n",
    "            res_type[i] = (-2, None, gt)\n",
    "            continue\n",
    "\n",
    "        # top 1\n",
    "        pred = counter.most_common()[0]\n",
    "        if gt == pred[0]:\n",
    "            counts.append((pred[1],))\n",
    "            top1 += 1\n",
    "            top5 += 1\n",
    "            res_type[i] = (1, pred[0], gt)\n",
    "            continue\n",
    "        \n",
    "        pred5 = counter.most_common(n = 5)\n",
    "        pred5, cs = list(zip(*pred5))\n",
    "        if gt in pred5:\n",
    "            counts.append(cs)\n",
    "            top5 += 1\n",
    "            res_type[i] = (5, pred5, gt)\n",
    "            continue\n",
    "        \n",
    "        res_type[i] = (-1, pred[0], gt)\n",
    "            \n",
    "        \n",
    "            \n",
    "    print(f\"Top1 Correct: {top1}/{n}\")\n",
    "    print(f\"Top5 Correct: {top5}/{n}\")\n",
    "    print(f\"Num Invalid: {invalid}/{n}\")\n",
    "    print(counts)\n",
    "    enable_warnings()\n",
    "    return res_type\n",
    "\n",
    "\n",
    "        "
   ]
  },
  {
   "cell_type": "code",
   "execution_count": 7,
   "metadata": {},
   "outputs": [
    {
     "name": "stdout",
     "output_type": "stream",
     "text": [
      "Num correct: 18/20\n",
      "Num Invalid: 0/20\n"
     ]
    }
   ],
   "source": [
    "_= eval_baseline(rez=s1_results)"
   ]
  },
  {
   "attachments": {},
   "cell_type": "markdown",
   "metadata": {},
   "source": []
  },
  {
   "cell_type": "code",
   "execution_count": 8,
   "metadata": {},
   "outputs": [
    {
     "name": "stdout",
     "output_type": "stream",
     "text": [
      "Top1 Correct: 20/20\n",
      "Top5 Correct: 20/20\n",
      "Num Invalid: 0/20\n",
      "[(20,), (20,), (20,), (20,), (20,), (18,), (20,), (20,), (19,), (20,), (12,), (20,), (17,), (20,), (7,), (20,), (20,), (20,), (20,), (20,)]\n"
     ]
    }
   ],
   "source": [
    "_ = eval_sc(s1_sc_results)"
   ]
  },
  {
   "cell_type": "code",
   "execution_count": 10,
   "metadata": {},
   "outputs": [
    {
     "name": "stdout",
     "output_type": "stream",
     "text": [
      "Num correct: 1/20\n",
      "Num Invalid: 4/20\n"
     ]
    }
   ],
   "source": [
    "_ = eval_baseline(s1_zs_results)"
   ]
  },
  {
   "cell_type": "code",
   "execution_count": 28,
   "metadata": {},
   "outputs": [
    {
     "name": "stdout",
     "output_type": "stream",
     "text": [
      "Num correct: 11/20\n",
      "Num Invalid: 4/20\n"
     ]
    }
   ],
   "source": [
    "s1_full_results = np.load('../../results/step1_prediction_full/gpt-4/step1_prediction_full_results.npy', allow_pickle=True).item()\n",
    "_ = eval_baseline(s1_full_results)"
   ]
  },
  {
   "cell_type": "code",
   "execution_count": 53,
   "metadata": {},
   "outputs": [
    {
     "data": {
      "text/plain": [
       "'[CH3:18][S:19][C:20]#[N:21].[OH:5][c:6]1[cH+:7][cH:8][cH:9][cH:10][cH:11]1'"
      ]
     },
     "execution_count": 53,
     "metadata": {},
     "output_type": "execute_result"
    }
   ],
   "source": [
    "Chem.MolToSmiles(x)"
   ]
  },
  {
   "cell_type": "code",
   "execution_count": 58,
   "metadata": {},
   "outputs": [
    {
     "name": "stdout",
     "output_type": "stream",
     "text": [
      "Num correct: 1/20\n",
      "Num Invalid: 1/20\n"
     ]
    },
    {
     "data": {
      "text/plain": [
       "[(-1,\n",
       "  '[CH2:30]1[O:31][CH2:32][CH2:33][CH2:34]1.[CH:1]([CH3:2])([CH3:3])[NH:4][CH:5]([CH3:6])[CH3:7].[c:13]1([C:19](=[CH:20][CH2:21][C:22](=[O:23])[OH:24])[CH3:25])[cH:14][cH:15][cH:16][cH:17][cH:18]1',\n",
       "  '[CH:1]([CH3:2])([CH3:3])[NH:4][CH:5]([CH3:6])[CH3:7].[c:13]1([C:19](=[CH:20][CH2+:21][C:22](=[O:23])[OH:24])[CH3:25])[cH:14][cH:15][cH:16][cH:17][cH:18]1'),\n",
       " (-1,\n",
       "  '[C:17]([C:18]([Cl:19])=[O:20])=[O:21].[CH:1]1([CH3:15])[CH2:2][CH:3]([O:10][CH2:11][C:12](=[O:13])[OH:14])[CH:4]([CH:7]([CH3:8])[CH3:9])[CH2:5][CH2:6]1',\n",
       "  '[C:17]([C:18]([Cl:19])=[O:20])=[O:21].[CH:1]1([CH3:15])[CH2:2][CH:3]([O:10][CH2:11][C:12](=[O:13])[OH:14])[CH:4]([CH:7]([CH3:8])[CH3:9])[CH2:5][CH2:6]1.[Cl:16]'),\n",
       " (-1,\n",
       "  '[O:1]=[S:2]1(=[O:30])[N:3]=[C:4]([c:12]2[c:13](=[O:29])[n:14]([N:23]=[CH:24][CH2:25][CH2:26][CH2:27][CH3:28])[c:15]3[cH:16][cH:17][cH:18][cH:19][c:20]3[c:21]2[OH:22])[NH+:5][c:6]2[c:7]1[cH:8][cH:9][cH:10][cH:11]2',\n",
       "  '[O:1]=[S:2]1(=[O:30])[N:3]=[C:4]([c:12]2[c:21]([OH:22])[c:20]3[cH:19][cH:18][cH:17][cH:16][c:15]3[n:14]([N:23][CH:24][CH2:25][CH2:26][CH2:27][CH3:28])[c:13]2=[O:29])[NH:5][c:6]2[c:7]1[cH:8][cH:9][cH:10][cH:11]2'),\n",
       " (-1,\n",
       "  '[Br:1][c:2]1[s:3][cH:4][cH:5][n:6]1.[CH2:21]([CH2:22][O:23][CH3:24])[O:25][CH3:26].[s:7]1[c:8]([B:12]([OH:13])[OH:14])[cH:9][cH:10][cH:11]1',\n",
       "  '[B:12]([OH:13])[OH:14].[Br:1][c:2]1[n:6][cH:5][cH:4][s:3]1.[s:7]1[c:8][cH:9][cH:10][cH:11]1'),\n",
       " (-1,\n",
       "  '[CH2:1]([c:2]1[cH:3][cH:4][cH:5][cH:6][cH:7]1)[O:8][CH:9]1[CH:10]([CH:52]=[O:53])[O:11][C:12]([O:31][CH3:32])([c:33]2[cH:34][c:35]([CH2:40][c:41]3[c:42]([F:51])[c:43]([F:50])[c:44]([O:47][CH2:48][CH3:49])[cH:45][cH:46]3)[c:36]([Cl:39])[cH:37][cH:38]2)[CH:13]([O:23][CH2:24][c:25]2[cH:26][cH:27][cH:28][cH:29][cH:30]2)[CH:14]1[O:15][CH2:16][c:17]1[cH:18][cH:19][cH:20][cH:21][cH:22]1.[CH2:54][O:55]',\n",
       "  '[CH2:1]([c:2]1[cH:3][cH:4][cH:5][cH:6][cH:7]1)[O:8][CH:9]1[CH+:10]([CH:52]=[O:53])[O:11][C:12]([O:31][CH3:32])([c:33]2[cH:34][c:35]([CH2:40][c:41]3[c:42]([F:51])[c:43]([F:50])[c:44]([O:47][CH2:48][CH3:49])[cH:45][cH:46]3)[c:36]([Cl:39])[cH:37][cH:38]2)[CH:13]([O:23][CH2:24][c:25]2[cH:26][cH:27][cH:28][cH:29][cH:30]2)[CH:14]1[O:15][CH2:16][c:17]1[cH:18][cH:19][cH:20][cH:21][cH:22]1.[CH2:54]=[O:55]'),\n",
       " (-1,\n",
       "  '[CH2:8]([CH2:9][CH2:10][CH2:11][CH2:12][CH3:13])[OH+:14].[OH:1][CH:2]1[CH:3]=[CH:4][C:5](=[O:7])[NH:6]1',\n",
       "  '[CH2:8]([CH2:9][CH2:10][CH2:11][CH2:12][CH3:13])[OH:14].[OH+:1][CH:2]1[CH:3]=[CH:4][C:5](=[O:7])[NH:6]1'),\n",
       " (-1,\n",
       "  '[CH3:35][CH:36]([OH:37])[CH3:38].[Cl:1][c:2]1[o:3][c:4](-[c:7]2[cH:8][cH:9][c:10]([C:13]([F:14])([F:15])[F:16])[cH:11][cH:12]2)[cH:5][n:6]1.[NH2:17][c:18]1[cH:19][c:20]([NH:24][S:25](=[O:26])(=[O:27])[CH2:28][c:29]2[cH:30][cH:31][cH:32][cH:33][cH:34]2)[cH:21][cH:22][cH:23]1',\n",
       "  '[Cl:1][c:2]1[n:6][cH:5][c:4](-[c:7]2[cH:8][cH:9][c:10]([C:13]([F:14])([F:15])[F:16])[cH:11][cH:12]2)[o:3]1.[NH2+:17][c:18]1[cH:19][c:20]([NH:24][S:25](=[O:26])(=[O:27])[CH2:28][c:29]2[cH:30][cH:31][cH:32][cH:33][cH:34]2)[cH:21][cH:22][cH:23]1'),\n",
       " (-1,\n",
       "  '[Cl:12][CH2:13][C:14](=[O:15])[Cl:16].[Cl:1][c:2]1[c:3]([NH+:4])[cH:5][cH:6][c:7]([N+:9](=[O:10])[O-:11])[cH:8]1',\n",
       "  '[Cl:12][CH2:13][C:14](=[O:15])[Cl:16].[Cl:1][c:2]1[c:3]([NH2+:4])[cH:5][cH:6][c:7]([N+:9](=[O:10])[O-:11])[cH:8]1'),\n",
       " (-1,\n",
       "  '[Br:8][c:9]1[cH:10][c:11]([N+:22](=[O:23])[O-:24])[c:12]([C:13](=[O:14])[O:15][C:16]([CH3:17])([CH3:18])[CH3:19])[cH:20][cH:21]1.[CH3:1][C:2]1=[CH:3][CH:4]=[CH:5][CH:6]=[C+:7]1',\n",
       "  '[Br:8][c:9]1[cH:10][c:11]([N+:22](=[O:23])[O-:24])[c:12]([C:13](=[O:14])[O:15][C:16]([CH3:17])([CH3:18])[CH3:19])[cH:20][cH:21]1.[CH3:1].[c:2]1[cH:3][cH:4][cH:5][cH:6][cH:7]1'),\n",
       " (-1,\n",
       "  '[CH3:1][O:2][C:3]([CH2:4][CH2:5][c:6]1[cH:7][c:8]([CH2:12][NH:13][CH2:14][c:15]2[cH:16][cH:17][c:18](-[c:21]3[cH:22][n:23][cH:24][n:25][cH:26]3)[cH:19][cH:20]2)[cH:9][cH:10][cH:11]1)=[O:27].[CH3:39][CH2:40][N:41]([CH2:42][CH3:43])[CH2:44][CH3:45].[n:29]1[c:30]([S:35](=[O:36])(=[O:37])[Cl:38])[cH:31][cH:32][cH:33][cH:34]1',\n",
       "  '[CH3:1][O:2][C:3]([CH2:4][CH2:5][c:6]1[cH:7][c:8]([CH2:12][NH+:13][CH2:14][c:15]2[cH:16][cH:17][c:18](-[c:21]3[cH:22][n:23][cH:24][n:25][cH:26]3)[cH:19][cH:20]2)[cH:9][cH:10][cH:11]1)=[O:27].[n:29]1[c:30]([S:35](=[O:36])(=[O:37])[Cl:38])[cH:31][cH:32][cH:33][cH:34]1'),\n",
       " (-1,\n",
       "  '[CH2:34]([CH3:35])[O:36][c:37]1[c:38]([NH2:39])[cH:40][cH:41][c:42]([N:44]2[CH2:45][CH2:46][N:47]([CH2:50][CH2:51][CH3:52])[CH2:48][CH2:49]2)[cH:43]1.[CH3:64][O-:65].[Cl:1][c:2]1[n:3][cH:4][cH:5][c:6](-[c:8]2[c:9](-[c:17]3[cH:18][c:19]([C:20](=[O:21])[NH:22][c:23]4[c:24]([F:30])[cH:25][cH:26][cH:27][c:28]4[F:29])[cH:31][cH:32][cH:33]3)[n:10][c:11]3[n:12]2[cH:13][cH:14][cH:15][cH:16]3)[n:7]1',\n",
       "  '[CH2:34]([CH3:35])[O:36][c:37]1[c:38]([NH2+:39])[cH:40][cH:41][c:42]([N:44]2[CH2:45][CH2:46][N:47]([CH2:50][CH2:51][CH3:52])[CH2:48][CH2:49]2)[cH:43]1.[Cl:1][c:2]1[n:3][cH:4][cH:5][c:6](-[c:8]2[c:9](-[c:17]3[cH:18][c:19]([C:20](=[O:21])[NH:22][c:23]4[c:24]([F:30])[cH:25][cH:26][cH:27][c:28]4[F:29])[cH:31][cH:32][cH:33]3)[n:10][c:11]3[n:12]2[cH:13][cH:14][cH:15][cH:16]3)[n:7]1'),\n",
       " (-1,\n",
       "  '[O:1]=[C:2]1[CH2:3][CH2:4][C:5]([c:8]2[cH:9][cH:10][c:11]([NH:14][C:15]([NH:16][C:17](=[O:18])[c:19]3[cH:20][cH:21][cH:22][cH:23][cH:24]3)=[S:25])[cH:12][cH:13]2)=[N:6][NH2+:7]1',\n",
       "  '[C:17](=[O:18])[c:19]1[cH:20][cH:21][cH:22][cH:23][cH:24]1.[O:1]=[C:2]1[CH2:3][CH2:4][C:5]([c:8]2[cH:9][cH:10][c:11]([NH:14][C:15]([NH:16])=[S:25])[cH:12][cH:13]2)=[N:6][NH:7]1'),\n",
       " (-1,\n",
       "  '[CH2:2][C:3]#[C:4][CH3:5].[CH3:6][O:7][C:8](=[O:9])[CH:10]1[CH:11]([CH3:27])[O:12][CH:13]([CH3:26])[CH2:14][N:15]1[S:16](=[O:17])(=[O:18])[c:19]1[cH:20][cH:21][c:22]([OH:25])[cH:23][cH:24]1',\n",
       "  '[CH3:6][O:7][C:8](=[O:9])[CH:10]1[CH:11]([CH3:27])[O:12][CH:13]([CH3:26])[CH2:14][N:15]1[S:16](=[O:17])(=[O:18])[c:19]1[cH:20][cH:21][c:22]([OH+:25])[cH:23][cH:24]1.[Cl:1][CH2:2][C:3]#[C:4][CH3:5]'),\n",
       " (-1,\n",
       "  '[Br:1][c:2]1[c:3](-[c:12]2[cH:13][n:14][cH:15][cH:16][cH:17]2)[n:4][c:5]([NH2:11])[c:6]([N+:8](=[O:9])[O-:10])[cH:7]1.[F:18][c:19]1[cH:20][n:21][cH:22][cH:23][c:24]1[Sn:25]([CH2:26][CH2:27][CH2:28][CH3:29])([CH2:30][CH2:31][CH2:32][CH3:33])[CH2:34][CH2:35][CH2:36][CH3:37]',\n",
       "  '[Br:1][c:2]1[c:3](-[c:12]2[cH:13][n:14][cH:15][cH:16][cH:17]2)[n:4][c:5]([NH2:11])[c:6]([N+:8](=[O:9])[O-:10])[cH:7]1.[F:18][c:19]1[cH:20][n:21][cH:22][cH:23][c:24]1.[Sn:25]([CH2:26][CH2:27][CH2:28][CH3:29])([CH2:30][CH2:31][CH2:32][CH3:33])[CH2:34][CH2:35][CH2:36][CH3:37]'),\n",
       " (-1,\n",
       "  '[Br:22].[NH2:1][c:2]1[cH:3][cH:4][c:5]([F:17])[c:6](-[c:8]2[c:9]([C:15]#[N:16])[c:10]([F:14])[cH:11][cH:12][cH:13]2)[cH:7]1',\n",
       "  '[BrH+:22].[NH2:1][c:2]1[cH:3][cH:4][c:5]([F:17])[c:6](-[c:8]2[c:9]([C:15]#[N:16])[c:10]([F:14])[cH:11][cH:12][cH:13]2)[cH:7]1'),\n",
       " (-1,\n",
       "  '[c:2]1([CH2:12][CH2:13][c:14]2[n:15][c:16]([CH:19]3[CH2:20][CH2:21][N+:22]([C:25]([O:26][C:27]([CH3:28])([CH3:29])[CH3:30])=[O:31])[CH2:23][CH2:24]3)[s:17][cH:18]2)[cH:3][cH:4][cH:5][c:6]2[cH:7][cH:8][cH:9][cH:10][c:11]12',\n",
       "  '[C:25]([O:26][C:27]([CH3:28])([CH3:29])[CH3:30])=[O:31].[c:2]1([CH2:12][CH2:13][c:14]2[cH:18][s:17][c:16]([CH:19]3[CH2:20][CH2:21][N:22][CH2:23][CH2:24]3)[n:15]2)[cH:3][cH:4][cH:5][c:6]2[cH:7][cH:8][cH:9][cH:10][c:11]12'),\n",
       " (-1,\n",
       "  '[CH3:18][S:19][C:20]#[N:21].[OH+:5][c:6]1[cH:7][cH:8][cH:9][cH:10][cH:11]1',\n",
       "  '[CH3:18][S:19][C:20]#[N:21].[OH:5][c:6]1[cH+:7][cH:8][cH:9][cH:10][cH:11]1'),\n",
       " (-1,\n",
       "  '[CH:1]12[NH:2][CH:3]([CH2:7][NH:8][C:9](=[O:10])[c:11]3[c:12]([CH3:17])[n:13][o:14][c:15]3[CH3:16])[CH2:4][CH:5]1[CH2:6]2.[NH2:18][c:19]1[s:20][c:21](-[c:27]2[cH:28][c:29]([F:33])[cH:30][cH:31][cH:32]2)[c:22]([C:24](=[O:25])[OH:26])[n:23]1',\n",
       "  '[CH:1]12[NH+:2][CH:3]([CH2:7][NH:8][C:9](=[O:10])[c:11]3[c:15]([CH3:16])[o:14][n:13][c:12]3[CH3:17])[CH2:4][CH:5]1[CH2:6]2.[NH2:18][c:19]1[n:23][c:22]([C:24](=[O:25])[OH:26])[c:21](-[c:27]2[cH:28][c:29]([F:33])[cH:30][cH:31][cH:32]2)[s:20]1'),\n",
       " (-2,\n",
       "  None,\n",
       "  '[CH3:6][O:7][CH2:8][CH2:9][N:10]([CH2:11][C:12]#[CH+:13])[CH3:14].[O:15]=[C:16]=[O:17]'),\n",
       " (1,\n",
       "  '[C:1]([CH3:2])([CH3:3])([CH3:4])[Si:5]([O:6][CH2:7][CH2:8][n:9]1[n:10][cH:11][c:12]2[cH:13][c:14]([CH3:19])[c:15]([NH2+:18])[cH:16][c:17]12)([CH3:20])[CH3:21].[F:23][c:24]1[cH:25][cH:26][c:27]([CH:30]2[C:31]([C:37](=[O:38])[OH:39])=[CH:32][NH:33][C:34](=[O:36])[CH2:35]2)[cH:28][cH:29]1',\n",
       "  '[C:1]([CH3:2])([CH3:3])([CH3:4])[Si:5]([O:6][CH2:7][CH2:8][n:9]1[n:10][cH:11][c:12]2[cH:13][c:14]([CH3:19])[c:15]([NH2+:18])[cH:16][c:17]12)([CH3:20])[CH3:21].[F:23][c:24]1[cH:25][cH:26][c:27]([CH:30]2[C:31]([C:37](=[O:38])[OH:39])=[CH:32][NH:33][C:34](=[O:36])[CH2:35]2)[cH:28][cH:29]1')]"
      ]
     },
     "execution_count": 58,
     "metadata": {},
     "output_type": "execute_result"
    }
   ],
   "source": [
    "s2_results = np.load('../../results/step2_prediction/gpt-4/step2_prediction_results.npy', allow_pickle=True).item()\n",
    "eval_baseline(s2_results)"
   ]
  },
  {
   "cell_type": "code",
   "execution_count": 61,
   "metadata": {},
   "outputs": [
    {
     "name": "stdout",
     "output_type": "stream",
     "text": [
      "You are an expert chemist. Your task is to predict the next intermediate molecules in the electron transfer process given the reactants and reagents, several examples, and your experienced reaction prediction knowledge. There are some rules to follow.\n",
      "1. Strictly follow the given format, and only respond with an atom mapped SMILES string.\n",
      "2. Numbers immediately following : represent the atom mapping.\n",
      "3. A . is used to distinguish between multiple molecules in the SMILES strings.\n",
      "4. If no reagents exist, it is left blank.\n",
      "Reactants: [Cl:31][C:32](=[O:33])[O:34][c:35]1[cH:36][cH:37][c:38]([N+:41](=[O:42])[O-:43])[cH:39][cH:40]1.[o:1]1[c:2](-[c:6]2[o:7][c:8]([CH3:30])[c:9]([CH2:11][O:12][c:13]3[c:14]([O:28][CH3:29])[cH:15][c:16]([CH2:19][CH2:20][CH2:21][CH:22]([C:23](=[O:24])[O:25][CH3:26])[OH:27])[cH:17][cH:18]3)[n:10]2)[cH:3][cH:4][cH:5]1\n",
      "Reagents: [ClH:45].[OH2:44].[cH:46]1[cH:47][cH:48][n:49][cH:50][cH:51]1\n",
      "Intermediate 1: [Cl:31][C:32](=[O:33])[O:34][c:35]1[cH:36][cH:37][c:38]([N+:41](=[O:42])[O-:43])[cH:39][cH:40]1.[o:1]1[c:2](-[c:6]2[n:10][c:9]([CH2:11][O:12][c:13]3[c:14]([O:28][CH3:29])[cH:15][c:16]([CH2:19][CH2:20][CH2:21][CH:22]([C:23](=[O:24])[O:25][CH3:26])[OH:27])[cH:17][cH:18]3)[c:8]([CH3:30])[o:7]2)[cH:3][cH:4][cH:5]1\n",
      "Intermediate 2: [Cl:31][C:32](=[O:33])[O:34][c:35]1[cH:36][cH:37][c:38]([N+:41](=[O:42])[O-:43])[cH:39][cH:40]1.[o:1]1[c:2](-[c:6]2[n:10][c:9]([CH2:11][O:12][c:13]3[c:14]([O:28][CH3:29])[cH:15][c:16]([CH2:19][CH2:20][CH2:21][CH:22]([C:23](=[O:24])[O:25][CH3:26])[OH+:27])[cH:17][cH:18]3)[c:8]([CH3:30])[o:7]2)[cH:3][cH:4][cH:5]1\n",
      "Reactants: [CH2:1]([CH3:2])[O:3][C:4]([CH:5]([CH2:6][S:7][CH2:8][c:9]1[cH:10][cH:11][cH:12][cH:13][cH:14]1)[CH2:15][O:16][CH:17]1[CH2:18][CH2:19][O:20][CH2:21][CH2:22]1)=[O:23]\n",
      "Reagents: [CH3:27][CH2:28][OH:29].[Na+:25].[OH-:24].[OH2:26]\n",
      "Intermediate 1: [CH2:1]([CH3:2])[O:3][C:4]([CH:5]([CH2:6][S:7][CH2:8][c:9]1[cH:10][cH:11][cH:12][cH:13][cH:14]1)[CH2:15][O:16][CH:17]1[CH2:18][CH2:19][O:20][CH2:21][CH2:22]1)=[O:23]\n",
      "Intermediate 2: [CH2:1][CH3:2].[O:3][C:4]([CH:5]([CH2:6][S:7][CH2:8][c:9]1[cH:10][cH:11][cH:12][cH:13][cH:14]1)[CH2:15][O:16][CH:17]1[CH2:18][CH2:19][O:20][CH2:21][CH2:22]1)=[O:23]\n",
      "Reactants: [CH3:37][O-:38].[F:1][C:2]([c:3]1[cH:4][c:5]([CH2:6][N:7]([C:8](=[O:9])[c:10]2[n:11][c:12]([Cl:26])[c:13]3[cH:14][cH:15][cH:16][cH:17][c:18]3[c:19]2-[c:20]2[cH:21][cH:22][cH:23][cH:24][cH:25]2)[CH3:27])[cH:28][c:29]([C:31]([F:32])([F:33])[F:34])[cH:30]1)([F:35])[F:36]\n",
      "Reagents: [Na+:39]\n",
      "Intermediate 1: [CH3:37][O-:38].[F:1][C:2]([c:3]1[cH:4][c:5]([CH2:6][N:7]([C:8](=[O:9])[c:10]2[n:11][c:12]([Cl:26])[c:13]3[cH:14][cH:15][cH:16][cH:17][c:18]3[c:19]2-[c:20]2[cH:21][cH:22][cH:23][cH:24][cH:25]2)[CH3:27])[cH:28][c:29]([C:31]([F:32])([F:33])[F:34])[cH:30]1)([F:35])[F:36]\n",
      "Intermediate 2: [CH3:37][O:38].[F:1][C:2]([c:3]1[cH:4][c:5]([CH2:6][N:7]([C:8](=[O:9])[c:10]2[n:11][c:12]([Cl:26])[c:13]3[cH:14][cH:15][cH:16][cH:17][c:18]3[c:19]2-[c:20]2[cH:21][cH:22][cH:23][cH:24][cH:25]2)[CH3:27])[cH:28][c:29]([C:31]([F:32])([F:33])[F:34])[cH:30]1)([F:35])[F:36]\n",
      "Reactants: [CH2:1]([CH2:2][CH3:3])[NH2:4].[F:5][c:6]1[n:7][c:8]([F:13])[cH:9][c:10]([F:12])[n:11]1\n",
      "Reagents: [CH3:14][CH2:15][O:16][CH2:17][CH3:18]\n",
      "Intermediate 1: [CH2:1]([CH2:2][CH3:3])[NH2:4].[F:5][c:6]1[n:7][c:8]([F:13])[cH:9][c:10]([F:12])[n:11]1\n",
      "Intermediate 2: [CH2:1]([CH2:2][CH3:3])[NH2+:4].[F:5][c:6]1[n:7][c:8]([F:13])[cH:9][c:10]([F:12])[n:11]1\n",
      "Reactants: [C:1]12([CH2:11][C:12](=[O:13])[OH:14])[CH2:2][CH:3]3[CH2:4][CH:5]([CH2:6][CH:7]([CH2:8]1)[CH2:9]3)[CH2:10]2.[CH2:15]([CH3:16])[O:17][C:18](=[O:19])[c:20]1[n:21][n:22]2[c:23]([c:24]([NH2:28])[cH:25][cH:26][cH:27]2)[cH:29]1\n",
      "Reagents: [CH3:44][c:45]1[cH:46][cH:47][cH:48][cH:49][cH:50]1.[CH3:56][CH2:57][N:58]([CH2:59][CH3:60])[CH2:61][CH3:62].[Cl-:30].[Cl:31][CH:32]1[N:33]([CH3:34])[CH2:35][CH2:36][NH+:37]1[CH3:38].[Na+:43].[O-:39][C:40]([OH:41])=[O:42].[O:51]=[CH:52][N:53]([CH3:54])[CH3:55]\n",
      "Intermediate 1: [C:1]12([CH2:11][C:12](=[O:13])[OH:14])[CH2:2][CH:3]3[CH2:4][CH:5]([CH2:6][CH:7]([CH2:8]1)[CH2:9]3)[CH2:10]2.[CH2:15]([CH3:16])[O:17][C:18](=[O:19])[c:20]1[n:21][n:22]2[c:23]([cH:29]1)[c:24]([NH2:28])[cH:25][cH:26][cH:27]2\n",
      "Intermediate 2: [C:1]12([CH2:11][C:12](=[O:13])[OH:14])[CH2:2][CH:3]3[CH2:4][CH:5]([CH2:6][CH:7]([CH2:8]1)[CH2:9]3)[CH2:10]2.[CH2:15]([CH3:16])[O:17][C:18](=[O:19])[c:20]1[n:21][n:22]2[c:23]([cH:29]1)[c:24]([NH2+:28])[cH:25][cH:26][cH:27]2\n",
      "Reactants: [CH:1]([CH3:2])([CH3:3])[NH:4][CH:5]([CH3:6])[CH3:7].[c:13]1([C:19](=[CH:20][CH2:21][C:22](=[O:23])[OH:24])[CH3:25])[cH:14][cH:15][cH:16][cH:17][cH:18]1\n",
      "Reagents: [CH2:30]1[O:31][CH2:32][CH2:33][CH2:34]1.[CH2:8]([Li:9])[CH2:10][CH2:11][CH3:12].[CH3:35][CH2:36][CH2:37][CH2:38][CH2:39][CH3:40].[CH:26]([I:27])([CH3:28])[CH3:29].[OH2:41]\n",
      "Intermediate 1: [CH:1]([CH3:2])([CH3:3])[NH:4][CH:5]([CH3:6])[CH3:7].[c:13]1([C:19](=[CH:20][CH2:21][C:22](=[O:23])[OH:24])[CH3:25])[cH:14][cH:15][cH:16][cH:17][cH:18]1\n",
      "Intermediate 2:\n"
     ]
    }
   ],
   "source": [
    "print(s2_results['prompts'][test_indices[0]])"
   ]
  },
  {
   "cell_type": "code",
   "execution_count": 59,
   "metadata": {},
   "outputs": [
    {
     "name": "stdout",
     "output_type": "stream",
     "text": [
      "Num correct: 0/20\n",
      "Num Invalid: 1/20\n"
     ]
    },
    {
     "data": {
      "text/plain": [
       "[(-1,\n",
       "  '[CH:1]([CH3:2])([CH3:3])[NH+:4][CH:5]([CH3:6])[CH3:7].[c:13]1([C:19](=[CH:20][CH2:21][C:22](=[O:23])[OH:24])[CH3:25])[cH:14][cH:15][cH:16][cH:17][cH:18]1',\n",
       "  '[CH:1]([CH3:2])([CH3:3])[NH:4][CH:5]([CH3:6])[CH3:7].[c:13]1([C:19](=[CH:20][CH2+:21][C:22](=[O:23])[OH:24])[CH3:25])[cH:14][cH:15][cH:16][cH:17][cH:18]1'),\n",
       " (-1,\n",
       "  '[CH:1]1([CH3:15])[CH2:2][CH:3]([O:10][CH2:11][C:12](=[O:13])[OH:14])[CH:4]([CH:7]([CH3:8])[CH3:9])[CH2:5][CH2:6]1.[Cl:16][C:17]([C:18]([Cl:19])=[O:20])=[O:21].[cH:22]1[cH:23][cH:24][cH:25][cH:26][cH:27]1',\n",
       "  '[C:17]([C:18]([Cl:19])=[O:20])=[O:21].[CH:1]1([CH3:15])[CH2:2][CH:3]([O:10][CH2:11][C:12](=[O:13])[OH:14])[CH:4]([CH:7]([CH3:8])[CH3:9])[CH2:5][CH2:6]1.[Cl:16]'),\n",
       " (-1,\n",
       "  '[O:1]=[S:2]1(=[O:30])[N:3]=[C:4]([c:12]2[c:13](=[O:29])[n:14]([N:23]=[CH:24][CH2:25][CH2:26][CH2:27][CH3:28])[c:15]3[cH:16][cH:17][cH:18][cH:19][c:20]3[c:21]2[OH:22])[NH2+:5][c:6]2[c:7]1[cH:8][cH:9][cH:10][cH:11]2',\n",
       "  '[O:1]=[S:2]1(=[O:30])[N:3]=[C:4]([c:12]2[c:21]([OH:22])[c:20]3[cH:19][cH:18][cH:17][cH:16][c:15]3[n:14]([N:23][CH:24][CH2:25][CH2:26][CH2:27][CH3:28])[c:13]2=[O:29])[NH:5][c:6]2[c:7]1[cH:8][cH:9][cH:10][cH:11]2'),\n",
       " (-1,\n",
       "  '[Br:1][c:2]1[s:3][cH:4][cH:5][n:6]1.[CH2:21]([CH2:22][O:23][CH3:24])[O:25][CH3:26].[s:7]1[c:8]([B:12]([OH:13])[OH:14])[cH:9][cH:10][cH:11]1',\n",
       "  '[B:12]([OH:13])[OH:14].[Br:1][c:2]1[n:6][cH:5][cH:4][s:3]1.[s:7]1[c:8][cH:9][cH:10][cH:11]1'),\n",
       " (-1,\n",
       "  '[CH2:1]([c:2]1[cH:3][cH:4][cH:5][cH:6][cH:7]1)[O:8][CH:9]1[CH:10]([CH:52]=[O:53])[O:11][C:12]([O:31][CH3:32])([c:33]2[cH:34][c:35]([CH2:40][c:41]3[c:42]([F:51])[c:43]([F:50])[c:44]([O:47][CH2:48][CH3:49])[cH:45][cH:46]3)[c:36]([Cl:39])[cH:37][cH:38]2)[CH:13]([O:23][CH2:24][c:25]2[cH:26][cH:27][cH:28][cH:29][cH:30]2)[CH:14]1[O:15][CH2:16][c:17]1[cH:18][cH:19][cH:20][cH:21][cH:22]1.[CH2:54][O:55]',\n",
       "  '[CH2:1]([c:2]1[cH:3][cH:4][cH:5][cH:6][cH:7]1)[O:8][CH:9]1[CH+:10]([CH:52]=[O:53])[O:11][C:12]([O:31][CH3:32])([c:33]2[cH:34][c:35]([CH2:40][c:41]3[c:42]([F:51])[c:43]([F:50])[c:44]([O:47][CH2:48][CH3:49])[cH:45][cH:46]3)[c:36]([Cl:39])[cH:37][cH:38]2)[CH:13]([O:23][CH2:24][c:25]2[cH:26][cH:27][cH:28][cH:29][cH:30]2)[CH:14]1[O:15][CH2:16][c:17]1[cH:18][cH:19][cH:20][cH:21][cH:22]1.[CH2:54]=[O:55]'),\n",
       " (-1,\n",
       "  '[CH2:8]([CH2:9][CH2:10][CH2:11][CH2:12][CH3:13])[O-:14].[OH:1][CH:2]1[CH:3]=[CH:4][C:5](=[O:7])[NH:6]1',\n",
       "  '[CH2:8]([CH2:9][CH2:10][CH2:11][CH2:12][CH3:13])[OH:14].[OH+:1][CH:2]1[CH:3]=[CH:4][C:5](=[O:7])[NH:6]1'),\n",
       " (-1,\n",
       "  '[Cl:1][c:2]1[o:3][c:4](-[c:7]2[cH:8][cH:9][c:10]([C:13]([F:14])([F:15])[F:16])[cH:11][cH:12]2)[cH:5][n:6]1.[NH2:17][c:18]1[cH:19][c:20]([NH+:24][S:25](=[O:26])(=[O:27])[CH2:28][c:29]2[cH:30][cH:31][cH:32][cH:33][cH:34]2)[cH:21][cH:22][cH:23]1',\n",
       "  '[Cl:1][c:2]1[n:6][cH:5][c:4](-[c:7]2[cH:8][cH:9][c:10]([C:13]([F:14])([F:15])[F:16])[cH:11][cH:12]2)[o:3]1.[NH2+:17][c:18]1[cH:19][c:20]([NH:24][S:25](=[O:26])(=[O:27])[CH2:28][c:29]2[cH:30][cH:31][cH:32][cH:33][cH:34]2)[cH:21][cH:22][cH:23]1'),\n",
       " (-1,\n",
       "  '[Cl:12][CH2:13][C:14](=[O:15])[Cl:16].[Cl:1][c:2]1[c:3]([NH2:4])[cH:5][cH:6][c:7]([N+:9](=[O:10])[O-:11])[cH:8]1.[O:17]1[CH2:18][CH2:19][CH2:20][CH2:21]1',\n",
       "  '[Cl:12][CH2:13][C:14](=[O:15])[Cl:16].[Cl:1][c:2]1[c:3]([NH2+:4])[cH:5][cH:6][c:7]([N+:9](=[O:10])[O-:11])[cH:8]1'),\n",
       " (-1,\n",
       "  '[Br:8][c:9]1[cH:10][c:11]([N+:22](=[O:23])[O-:24])[c:12]([C:13](=[O:14])[O:15][C:16]([CH3:17])([CH3:18])[CH3:19])[cH:20][cH:21]1.[CH3:1][c:2]1[cH:3][cH:4][cH:5][cH:6][cH:7]1',\n",
       "  '[Br:8][c:9]1[cH:10][c:11]([N+:22](=[O:23])[O-:24])[c:12]([C:13](=[O:14])[O:15][C:16]([CH3:17])([CH3:18])[CH3:19])[cH:20][cH:21]1.[CH3:1].[c:2]1[cH:3][cH:4][cH:5][cH:6][cH:7]1'),\n",
       " (-1,\n",
       "  '[CH3:1][O:2][C:3]([CH2:4][CH2:5][c:6]1[cH:7][c:8]([CH2:12][NH:13][CH2:14][c:15]2[cH:16][cH:17][c:18](-[c:21]3[cH:22][n:23][cH:24][n:25][cH:26]3)[cH:19][cH:20]2)[cH:9][cH:10][cH:11]1)=[O:27].[n:29]1[c:30]([S:35](=[O:36])(=[O:37])[Cl:38])[cH:31][cH:32][cH:33][cH:34]1',\n",
       "  '[CH3:1][O:2][C:3]([CH2:4][CH2:5][c:6]1[cH:7][c:8]([CH2:12][NH+:13][CH2:14][c:15]2[cH:16][cH:17][c:18](-[c:21]3[cH:22][n:23][cH:24][n:25][cH:26]3)[cH:19][cH:20]2)[cH:9][cH:10][cH:11]1)=[O:27].[n:29]1[c:30]([S:35](=[O:36])(=[O:37])[Cl:38])[cH:31][cH:32][cH:33][cH:34]1'),\n",
       " (-1,\n",
       "  '[CH2:34]([CH3:35])[O:36][c:37]1[c:38]([NH2:39])[cH:40][cH:41][c:42]([N:44]2[CH2:45][CH2:46][N:47]([CH2:50][CH2:51][CH3:52])[CH2:48][CH2:49]2)[cH:43]1.[CH3:64][O-:65].[Cl:1][c:2]1[n:3][cH:4][cH:5][c:6](-[c:8]2[c:9](-[c:17]3[cH:18][c:19]([C:20](=[O:21])[NH:22][c:23]4[c:24]([F:30])[cH:25][cH:26][cH:27][c:28]4[F:29])[cH:31][cH:32][cH:33]3)[n:10][c:11]3[n:12]2[cH:13][cH:14][cH:15][cH:16]3)[n:7]1',\n",
       "  '[CH2:34]([CH3:35])[O:36][c:37]1[c:38]([NH2+:39])[cH:40][cH:41][c:42]([N:44]2[CH2:45][CH2:46][N:47]([CH2:50][CH2:51][CH3:52])[CH2:48][CH2:49]2)[cH:43]1.[Cl:1][c:2]1[n:3][cH:4][cH:5][c:6](-[c:8]2[c:9](-[c:17]3[cH:18][c:19]([C:20](=[O:21])[NH:22][c:23]4[c:24]([F:30])[cH:25][cH:26][cH:27][c:28]4[F:29])[cH:31][cH:32][cH:33]3)[n:10][c:11]3[n:12]2[cH:13][cH:14][cH:15][cH:16]3)[n:7]1'),\n",
       " (-1,\n",
       "  '[O:1]=[C:2]1[CH2:3][CH2:4][C:5]([c:8]2[cH:9][cH:10][c:11]([NH:14][C:15]([NH:16][C:17](=[O:18])[c:19]3[cH:20][cH:21][cH:22][cH:23][cH:24]3)=[S:25])[cH:12][cH:13]2)=[N+:6][NH:7]1',\n",
       "  '[C:17](=[O:18])[c:19]1[cH:20][cH:21][cH:22][cH:23][cH:24]1.[O:1]=[C:2]1[CH2:3][CH2:4][C:5]([c:8]2[cH:9][cH:10][c:11]([NH:14][C:15]([NH:16])=[S:25])[cH:12][cH:13]2)=[N:6][NH:7]1'),\n",
       " (-1,\n",
       "  '[CH3:6][O:7][C:8](=[O:9])[CH:10]1[CH:11]([CH3:27])[O:12][CH:13]([CH3:26])[CH2:14][N:15]1[S:16](=[O:17])(=[O:18])[c:19]1[cH:20][cH:21][c:22]([OH:25])[cH:23][cH:24]1.[Cl:1][CH2:2][C:3]#[C:4][CH3:5]',\n",
       "  '[CH3:6][O:7][C:8](=[O:9])[CH:10]1[CH:11]([CH3:27])[O:12][CH:13]([CH3:26])[CH2:14][N:15]1[S:16](=[O:17])(=[O:18])[c:19]1[cH:20][cH:21][c:22]([OH+:25])[cH:23][cH:24]1.[Cl:1][CH2:2][C:3]#[C:4][CH3:5]'),\n",
       " (-1,\n",
       "  '[Br:1][c:2]1[c:3](-[c:12]2[cH:13][n:14][cH:15][cH:16][cH:17]2)[n:4][c:5]([NH2:11])[c:6]([N+:8](=[O:9])[O-:10])[cH:7]1.[F:18][c:19]1[cH:20][n:21][cH:22][cH:23][c:24]1[Sn:25]([CH2:26][CH2:27][CH2:28][CH3:29])([CH2:30][CH2:31][CH2:32][CH3:33])[CH2:34][CH2:35][CH2:36][CH3:37]',\n",
       "  '[Br:1][c:2]1[c:3](-[c:12]2[cH:13][n:14][cH:15][cH:16][cH:17]2)[n:4][c:5]([NH2:11])[c:6]([N+:8](=[O:9])[O-:10])[cH:7]1.[F:18][c:19]1[cH:20][n:21][cH:22][cH:23][c:24]1.[Sn:25]([CH2:26][CH2:27][CH2:28][CH3:29])([CH2:30][CH2:31][CH2:32][CH3:33])[CH2:34][CH2:35][CH2:36][CH3:37]'),\n",
       " (-1,\n",
       "  '[Br:22].[NH2:1][c:2]1[cH:3][cH:4][c:5]([F:17])[c:6](-[c:8]2[c:9]([C:15]#[N:16])[c:10]([F:14])[cH:11][cH:12][cH:13]2)[cH:7]1',\n",
       "  '[BrH+:22].[NH2:1][c:2]1[cH:3][cH:4][c:5]([F:17])[c:6](-[c:8]2[c:9]([C:15]#[N:16])[c:10]([F:14])[cH:11][cH:12][cH:13]2)[cH:7]1'),\n",
       " (-1,\n",
       "  '[CH3:32][CH2:33][O:34][CH2:35][CH3:36].[c:2]1([CH2:12][CH2:13][c:14]2[n:15][c:16]([CH:19]3[CH2:20][CH2:21][N:22]([C:25]([O:26][C:27]([CH3:28])([CH3:29])[CH3:30])=[O:31])[CH2:23][CH2:24]3)[s:17][cH:18]2)[cH:3][cH:4][cH:5][c:6]2[cH:7][cH:8][cH:9][cH:10][c:11]12',\n",
       "  '[C:25]([O:26][C:27]([CH3:28])([CH3:29])[CH3:30])=[O:31].[c:2]1([CH2:12][CH2:13][c:14]2[cH:18][s:17][c:16]([CH:19]3[CH2:20][CH2:21][N:22][CH2:23][CH2:24]3)[n:15]2)[cH:3][cH:4][cH:5][c:6]2[cH:7][cH:8][cH:9][cH:10][c:11]12'),\n",
       " (-1,\n",
       "  '[CH3:18][S:19][C:20]#[N:21].[OH+:5][c:6]1[cH:7][cH:8][cH:9][cH:10][cH:11]1',\n",
       "  '[CH3:18][S:19][C:20]#[N:21].[OH:5][c:6]1[cH+:7][cH:8][cH:9][cH:10][cH:11]1'),\n",
       " (-1,\n",
       "  '[CH:1]12[NH:2][CH:3]([CH2:7][NH+:8][C:9](=[O:10])[c:11]3[c:12]([CH3:17])[n:13][o:14][c:15]3[CH3:16])[CH2:4][CH:5]1[CH2:6]2.[NH2:18][c:19]1[s:20][c:21](-[c:27]2[cH:28][c:29]([F:33])[cH:30][cH:31][cH:32]2)[c:22]([C:24](=[O:25])[OH:26])[n:23]1',\n",
       "  '[CH:1]12[NH+:2][CH:3]([CH2:7][NH:8][C:9](=[O:10])[c:11]3[c:15]([CH3:16])[o:14][n:13][c:12]3[CH3:17])[CH2:4][CH:5]1[CH2:6]2.[NH2:18][c:19]1[n:23][c:22]([C:24](=[O:25])[OH:26])[c:21](-[c:27]2[cH:28][c:29]([F:33])[cH:30][cH:31][cH:32]2)[s:20]1'),\n",
       " (-1,\n",
       "  '[CH3:6][O:7][CH2:8][CH2:9][N+:10]([CH2:11][C:12]#[CH:13])[CH3:14].[O:15]=[C:16]=[O:17]',\n",
       "  '[CH3:6][O:7][CH2:8][CH2:9][N:10]([CH2:11][C:12]#[CH+:13])[CH3:14].[O:15]=[C:16]=[O:17]'),\n",
       " (-2,\n",
       "  None,\n",
       "  '[C:1]([CH3:2])([CH3:3])([CH3:4])[Si:5]([O:6][CH2:7][CH2:8][n:9]1[n:10][cH:11][c:12]2[cH:13][c:14]([CH3:19])[c:15]([NH2+:18])[cH:16][c:17]12)([CH3:20])[CH3:21].[F:23][c:24]1[cH:25][cH:26][c:27]([CH:30]2[C:31]([C:37](=[O:38])[OH:39])=[CH:32][NH:33][C:34](=[O:36])[CH2:35]2)[cH:28][cH:29]1')]"
      ]
     },
     "execution_count": 59,
     "metadata": {},
     "output_type": "execute_result"
    }
   ],
   "source": [
    "s2_results = np.load('../../results/step2_prediction_partial/gpt-4/step2_prediction_partial_results.npy', allow_pickle=True).item()\n",
    "eval_baseline(s2_results)"
   ]
  },
  {
   "attachments": {},
   "cell_type": "markdown",
   "metadata": {},
   "source": [
    "# CoT prediction"
   ]
  },
  {
   "cell_type": "code",
   "execution_count": 20,
   "metadata": {},
   "outputs": [],
   "source": [
    "# evaluate results\n",
    "def cot_eval_baseline(rez, warnings = False):\n",
    "    \"\"\"Only 1 result\"\"\"\n",
    "    if not warnings:\n",
    "        disable_warnings()\n",
    "        \n",
    "    top1 = 0\n",
    "    invalid = 0\n",
    "    res_type = [0] * n\n",
    "\n",
    "\n",
    "    for i in range(n):\n",
    "        # canonical gt\n",
    "        gt = Chem.CanonSmiles(rez['ground_truth'][test_indices[i]])\n",
    "        predicted = rez['predicted'][test_indices[i]][0]\n",
    "        try:\n",
    "            pred = Chem.CanonSmiles(predicted)\n",
    "            if gt in pred.split():\n",
    "                top1 += 1\n",
    "                res_type[i] = (1, pred.split(), gt)\n",
    "            else:\n",
    "                res_type[i] = (-1, pred.split(), gt)\n",
    "        except Exception as e:\n",
    "            # if failed to parse\n",
    "            invalid += 1\n",
    "            res_type[i] = (-2, None, gt)\n",
    "        \n",
    "    print(f\"Num correct: {top1}/{n}\")\n",
    "    print(f\"Num Invalid: {invalid}/{n}\")\n",
    "    \n",
    "    enable_warnings()\n",
    "    return res_type\n",
    "    \n",
    "def cot_eval_sc(rez, warnings = False):\n",
    "    \"\"\"Use consistency\"\"\"\n",
    "    if not warnings:\n",
    "        disable_warnings()\n",
    "    \n",
    "    top1 = 0\n",
    "    top5 = 0\n",
    "    invalid = 0\n",
    "    res_type = [-1] * n\n",
    "    counts = []\n",
    "    \n",
    "    def count_preds(predicted):\n",
    "        canon_pred = []\n",
    "        tmp = 0\n",
    "        for p in predicted:\n",
    "            try:\n",
    "                canon_pred.append(Chem.CanonSmiles(p))\n",
    "            except:\n",
    "                tmp += 1\n",
    "                pass\n",
    "        #print(tmp)\n",
    "        return Counter(canon_pred)\n",
    "        \n",
    "\n",
    "    for i in range(n):\n",
    "        # canonical gt\n",
    "        gt = Chem.CanonSmiles(rez['ground_truth'][test_indices[i]])\n",
    "        counter = count_preds(rez['predicted'][test_indices[i]])\n",
    "        if len(counter) == 0:\n",
    "            invalid += 1\n",
    "            res_type[i] = (-2, None, gt)\n",
    "            continue\n",
    "\n",
    "        # top 1\n",
    "        pred = counter.most_common()[0]\n",
    "        if gt in pred[0].split():\n",
    "            counts.append((pred[1],))\n",
    "            top1 += 1\n",
    "            top5 += 1\n",
    "            res_type[i] = (1, pred[0].split(), gt)\n",
    "            continue\n",
    "        \n",
    "        pred5 = counter.most_common(n = 5)\n",
    "        pred5, cs = list(zip(*pred5))\n",
    "        cont = False\n",
    "        for preds in pred5:\n",
    "            if gt in preds:\n",
    "                counts.append(cs)\n",
    "                top5 += 1\n",
    "                res_type[i] = (5, pred5, gt)\n",
    "                cont = True\n",
    "                break\n",
    "        if cont:\n",
    "            continue\n",
    "        \n",
    "        res_type[i] = (-1, pred[0], gt)\n",
    "            \n",
    "        \n",
    "            \n",
    "    print(f\"Top1 Correct: {top1}/{n}\")\n",
    "    print(f\"Top5 Correct: {top5}/{n}\")\n",
    "    print(f\"Num Invalid: {invalid}/{n}\")\n",
    "    print(counts)\n",
    "    enable_warnings()\n",
    "    return res_type\n",
    "\n",
    "\n",
    "        "
   ]
  },
  {
   "cell_type": "code",
   "execution_count": 25,
   "metadata": {},
   "outputs": [],
   "source": [
    "cot_path = f'../../results/cot_prediction/{model}/cot_prediction_results.npy'\n",
    "cot_results = np.load(cot_path, allow_pickle=True).item()"
   ]
  },
  {
   "cell_type": "code",
   "execution_count": 26,
   "metadata": {},
   "outputs": [
    {
     "name": "stdout",
     "output_type": "stream",
     "text": [
      "Num correct: 0/20\n",
      "Num Invalid: 3/20\n"
     ]
    },
    {
     "data": {
      "text/plain": [
       "[(-1,\n",
       "  ['[CH:1]([CH3:2])([CH3:3])[NH:4][CH:5]([CH3:6])[CH3:7].[c:13]1([C:19](=[CH:20][CH2:21][C:22](=[O:23])[OH:24])[CH3:25])[cH:14][cH:15][cH:16][cH:17][cH:18]1'],\n",
       "  '[CH:1]([CH3:2])([CH3:3])[CH:21]([CH:20]=[C:19]([c:13]1[cH:14][cH:15][cH:16][cH:17][cH:18]1)[CH3:25])[C:22](=[O:23])[OH:24]'),\n",
       " (-1,\n",
       "  ['[CH:1]1([CH3:15])[CH2:2][CH:3]([O:10][CH2:11][C:12](=[O:13])[OH:14])[CH:4]([CH:7]([CH3:8])[CH3:9])[CH2:5][CH2:6]1.[Cl:16][C:17]([C:18]([Cl:19])=[O:20])=[O:21]'],\n",
       "  '[CH:1]1([CH3:15])[CH2:2][CH:3]([O:10][CH2:11][C:12](=[O:13])[Cl:16])[CH:4]([CH:7]([CH3:8])[CH3:9])[CH2:5][CH2:6]1'),\n",
       " (-2,\n",
       "  None,\n",
       "  '[O:1]=[S:2]1(=[O:30])[N:3]=[C:4]([c:12]2[c:13](=[O:29])[n:14]([NH:23][CH2:24][CH2:25][CH2:26][CH2:27][CH3:28])[c:15]3[cH:16][cH:17][cH:18][cH:19][c:20]3[c:21]2[OH:22])[NH:5][c:6]2[c:7]1[cH:8][cH:9][cH:10][cH:11]2'),\n",
       " (-1,\n",
       "  ['Br[c:2]1[s:3][cH:4][cH:5][n:6]1.[s:7]1[c:8]([B:12]([OH:13])[OH:14])[cH:9][cH:10][cH:11]1'],\n",
       "  '[c:2]1(-[c:8]2[s:7][cH:11][cH:10][cH:9]2)[s:3][cH:4][cH:5][n:6]1'),\n",
       " (-1,\n",
       "  ['[CH2:1]([c:2]1[cH:3][cH:4][cH:5][cH:6][cH:7]1)[O:8][CH:9]1[CH:10]([C:52](=[O:53])[CH2:54][O:55])[O:11][C:12]([O:31][CH3:32])([c:33]2[cH:34][c:35]([CH2:40][c:41]3[c:42]([F:51])[c:43]([F:50])[c:44]([O:47][CH2:48][CH3:49])[cH:45][cH:46]3)[c:36]([Cl:39])[cH:37][cH:38]2)[CH:13]([O:23][CH2:24][c:25]2[cH:26][cH:27][cH:28][cH:29][cH:30]2)[CH:14]1[O:15][CH2:16][c:17]1[cH:18][cH:19][cH:20][cH:21][cH:22]1'],\n",
       "  '[CH2:1]([c:2]1[cH:3][cH:4][cH:5][cH:6][cH:7]1)[O:8][CH:9]1[C:10]([CH:52]=[O:53])([CH2:54][OH:55])[O:11][C:12]([O:31][CH3:32])([c:33]2[cH:34][c:35]([CH2:40][c:41]3[c:42]([F:51])[c:43]([F:50])[c:44]([O:47][CH2:48][CH3:49])[cH:45][cH:46]3)[c:36]([Cl:39])[cH:37][cH:38]2)[CH:13]([O:23][CH2:24][c:25]2[cH:26][cH:27][cH:28][cH:29][cH:30]2)[CH:14]1[O:15][CH2:16][c:17]1[cH:18][cH:19][cH:20][cH:21][cH:22]1'),\n",
       " (-1,\n",
       "  ['[CH:2]1([O:14][CH2:8][CH2:9][CH2:10][CH2:11][CH2:12][CH3:13])[CH:3]=[CH:4][C:5](=[O:7])[NH:6]1'],\n",
       "  '[O:1]([CH:2]1[CH:3]=[CH:4][C:5](=[O:7])[NH:6]1)[CH2:8][CH2:9][CH2:10][CH2:11][CH2:12][CH3:13]'),\n",
       " (-2,\n",
       "  None,\n",
       "  '[c:2]1([NH:17][c:18]2[cH:19][c:20]([NH:24][S:25](=[O:26])(=[O:27])[CH2:28][c:29]3[cH:30][cH:31][cH:32][cH:33][cH:34]3)[cH:21][cH:22][cH:23]2)[o:3][c:4](-[c:7]2[cH:8][cH:9][c:10]([C:13]([F:14])([F:15])[F:16])[cH:11][cH:12]2)[cH:5][n:6]1'),\n",
       " (-1,\n",
       "  ['[Cl:12][CH2:13][C:14](=[O:15])[OH:16].[Cl:1][c:2]1[c:3]([NH2:4])[cH:5][cH:6][c:7]([N+:9](=[O:10])[O-:11])[c:8]1'],\n",
       "  '[Cl:1][c:2]1[c:3]([NH:4][C:14]([CH2:13][Cl:12])=[O:15])[cH:5][cH:6][c:7]([N+:9](=[O:10])[O-:11])[cH:8]1'),\n",
       " (-2,\n",
       "  None,\n",
       "  '[c:2]1(-[c:9]2[cH:10][c:11]([N+:22](=[O:23])[O-:24])[c:12]([C:13](=[O:14])[O:15][C:16]([CH3:17])([CH3:18])[CH3:19])[cH:20][cH:21]2)[cH:3][cH:4][cH:5][cH:6][cH:7]1'),\n",
       " (-1,\n",
       "  ['[CH3:1][O:2][C:3]([CH2:4][CH2:5][c:6]1[cH:7][c:8]([CH2:12][NH:13][CH2:14][c:15]2[cH:16][cH:17][c:18](-[c:21]3[cH:22][n:23][cH:24][n:25][cH:26]3)[cH:19][cH:20]2)[cH:9][cH:10][cH:11]1)=[O:27].[n:29]1[c:30]([S:35](=[O:36])(=[O:37])[N:41]([CH2:42][CH3:43])[CH2:44][CH3:45])[cH:31][cH:32][cH:33][cH:34]1'],\n",
       "  '[CH3:1][O:2][C:3]([CH2:4][CH2:5][c:6]1[cH:7][c:8]([CH2:12][N:13]([CH2:14][c:15]2[cH:16][cH:17][c:18](-[c:21]3[cH:22][n:23][cH:24][n:25][cH:26]3)[cH:19][cH:20]2)[S:35]([c:30]2[n:29][cH:34][cH:33][cH:32][cH:31]2)(=[O:36])=[O:37])[cH:9][cH:10][cH:11]1)=[O:27]'),\n",
       " (-1,\n",
       "  ['[CH2:34]([CH3:35])[O:36][c:37]1[c:38]([NH2:39])[cH:40][cH:41][c:42]([N:44]2[CH2:45][CH2:46][N:47]([CH2:50][CH2:51][CH3:52])[CH2:48][CH2:49]2)[cH:43]1.[Cl:1][c:2]1[n:3][cH:4][cH:5][c:6](-[c:8]2[c:9](-[c:17]3[cH:18][c:19]([C:20](=[O:21])[NH:22][c:23]4[c:24]([F:30])[cH:25][cH:26][cH:27][c:28]4[F:29])[cH:31][cH:32][cH:33]3)[n:10][c:11]3[n:12]2[cH:13][cH:14][cH:15][cH:16]3)[n:7]1'],\n",
       "  '[c:2]1([NH:39][c:38]2[c:37]([O:36][CH2:34][CH3:35])[cH:43][c:42]([N:44]3[CH2:45][CH2:46][N:47]([CH2:50][CH2:51][CH3:52])[CH2:48][CH2:49]3)[cH:41][cH:40]2)[n:3][cH:4][cH:5][c:6](-[c:8]2[c:9](-[c:17]3[cH:18][c:19]([C:20](=[O:21])[NH:22][c:23]4[c:24]([F:30])[cH:25][cH:26][cH:27][c:28]4[F:29])[cH:31][cH:32][cH:33]3)[n:10][c:11]3[n:12]2[cH:13][cH:14][cH:15][cH:16]3)[n:7]1'),\n",
       " (-1,\n",
       "  ['[O:1]=[C:2]1[CH2:3][CH2:4][C:5]([c:8]2[cH:9][cH:10][c:11]([NH:14][C:15]([NH:16][C:17](=[O:18])[c:19]3[cH:20][cH:21][cH:22][cH:23][cH:24]3)=[S:25])[cH:12][cH:13]2)=[N:6][NH:7]1'],\n",
       "  '[O:1]=[C:2]1[CH2:3][CH2:4][C:5]([c:8]2[cH:9][cH:10][c:11]([NH:14][C:15]([NH2:16])=[S:25])[cH:12][cH:13]2)=[N:6][NH:7]1'),\n",
       " (-1,\n",
       "  ['[CH3:6][O:7][C:8](=[O:9])[CH:10]1[CH:11]([CH3:27])[O:12][CH:13]([CH3:26])[CH2:14][N:15]1[S:16](=[O:17])(=[O:18])[c:19]1[cH:20][cH:21][c:22]([OH:25])[cH:23][cH:24]1.[Cl:1][CH2:2][C:3]#[C:4][CH3:5]'],\n",
       "  '[CH2:2]([C:3]#[C:4][CH3:5])[O:25][c:22]1[cH:21][cH:20][c:19]([S:16]([N:15]2[CH:10]([C:8]([O:7][CH3:6])=[O:9])[CH:11]([CH3:27])[O:12][CH:13]([CH3:26])[CH2:14]2)(=[O:17])=[O:18])[cH:24][cH:23]1'),\n",
       " (-1,\n",
       "  ['[Br:1][c:2]1[c:3](-[c:12]2[cH:13][n:14][cH:15][cH:16][cH:17]2)[n:4][c:5]([NH2:11])[c:6]([N+:8](=[O:9])[O-:10])[c:7]1.[F:18][c:19]1[cH:20][n:21][cH:22][cH:23][c:24]1[Sn:25]([CH2:26][CH2:27][CH2:28][CH3:29])([CH2:30][CH2:31][CH2:32][CH3:33])[CH2:34][CH2:35][CH2:36][CH3:37]'],\n",
       "  '[c:2]1(-[c:24]2[c:19]([F:18])[cH:20][n:21][cH:22][cH:23]2)[c:3](-[c:12]2[cH:13][n:14][cH:15][cH:16][cH:17]2)[n:4][c:5]([NH2:11])[c:6]([N+:8](=[O:9])[O-:10])[cH:7]1'),\n",
       " (-1,\n",
       "  ['[NH2:1][c:2]1[cH:3][cH:4][c:5]([F:17])[c:6](-[c:8]2[c:9]([C:15]#[N:16])[c:10]([F:14])[cH:11][cH:12][cH:13]2)[cH:7]1'],\n",
       "  '[c:2]1([Br:22])[cH:3][cH:4][c:5]([F:17])[c:6](-[c:8]2[c:9]([C:15]#[N:16])[c:10]([F:14])[cH:11][cH:12][cH:13]2)[cH:7]1'),\n",
       " (-1,\n",
       "  ['[c:2]1([CH2:12][CH2:13][c:14]2[n:15][c:16]([CH:19]3[CH2:20][CH2:21][N:22]([C:25]([O:26][C:27]([CH3:28])([CH3:29])[CH3:30])=[O:31])[CH2:23][CH2:24]3)[s:17][cH:18]2)[cH:3][cH:4][cH:5][c:6]2[cH:7][cH:8][cH:9][cH:10][c:11]12'],\n",
       "  '[ClH:1].[c:2]1([CH2:12][CH2:13][c:14]2[n:15][c:16]([CH:19]3[CH2:20][CH2:21][NH:22][CH2:23][CH2:24]3)[s:17][cH:18]2)[cH:3][cH:4][cH:5][c:6]2[cH:7][cH:8][cH:9][cH:10][c:11]12'),\n",
       " (-1,\n",
       "  ['[CH3:18][S:19][C:20]#[N:21].[OH:5][c:6]1[cH:7][cH:8][cH:9][cH:10][cH:11]1'],\n",
       "  '[OH:5][c:6]1[c:7]([C:20]#[N:21])[cH:8][cH:9][cH:10][cH:11]1'),\n",
       " (-1,\n",
       "  ['[CH:1]12[NH:2][CH:3]([CH2:7][NH:8][C:9](=[O:10])[c:11]3[c:12]([CH3:17])[n:13][o:14][c:15]3[CH3:16])[CH2:4][CH:5]1[CH2:6]2.[NH:18][c:19]1[s:20][c:21](-[c:27]2[cH:28][c:29]([F:33])[cH:30][cH:31][cH:32]2)[c:22]([C:24](=[O:25])[OH:26])[n:23]1'],\n",
       "  '[CH:1]12[N:2]([C:24]([c:22]3[c:21](-[c:27]4[cH:28][c:29]([F:33])[cH:30][cH:31][cH:32]4)[s:20][c:19]([NH2:18])[n:23]3)=[O:25])[CH:3]([CH2:7][NH:8][C:9](=[O:10])[c:11]3[c:12]([CH3:17])[n:13][o:14][c:15]3[CH3:16])[CH2:4][CH:5]1[CH2:6]2'),\n",
       " (-1,\n",
       "  ['[CH3:6][O:7][CH2:8][CH2:9][N:10]([CH2:11][C:12]#[CH:13])[CH3:14].[O:15]=[C:16]=[O:17]'],\n",
       "  '[CH3:6][O:7][CH2:8][CH2:9][N:10]([CH2:11][C:12]#[C:13][C:16](=[O:15])[OH:17])[CH3:14]'),\n",
       " (-1,\n",
       "  ['[C:1]([CH3:2])([CH3:3])([CH3:4])[Si:5]([O:6][CH2:7][CH2:8][n:9]1[n:10][cH:11][c:12]2[cH:13][c:14]([CH3:19])[c:15]([NH2:18])[cH:16][c:17]12)([CH3:20])[CH3:21].[F:23][c:24]1[cH:25][cH:26][c:27]([CH:30]2[C:31]([C:37](=[O:38])[OH:39])=[CH:32][NH:33][C:34](=[O:36])[CH2:35]2)[cH:28][cH:29]1'],\n",
       "  '[C:1]([CH3:2])([CH3:3])([CH3:4])[Si:5]([O:6][CH2:7][CH2:8][n:9]1[n:10][cH:11][c:12]2[cH:13][c:14]([CH3:19])[c:15]([NH:18][C:37]([C:31]3=[CH:32][NH:33][C:34](=[O:36])[CH2:35][CH:30]3[c:27]3[cH:26][cH:25][c:24]([F:23])[cH:29][cH:28]3)=[O:38])[cH:16][c:17]12)([CH3:20])[CH3:21]')]"
      ]
     },
     "execution_count": 26,
     "metadata": {},
     "output_type": "execute_result"
    }
   ],
   "source": [
    "cot_eval_baseline(cot_results)"
   ]
  },
  {
   "cell_type": "code",
   "execution_count": null,
   "metadata": {},
   "outputs": [],
   "source": []
  }
 ],
 "metadata": {
  "kernelspec": {
   "display_name": "chempe",
   "language": "python",
   "name": "python3"
  },
  "language_info": {
   "codemirror_mode": {
    "name": "ipython",
    "version": 3
   },
   "file_extension": ".py",
   "mimetype": "text/x-python",
   "name": "python",
   "nbconvert_exporter": "python",
   "pygments_lexer": "ipython3",
   "version": "3.11.3"
  },
  "orig_nbformat": 4
 },
 "nbformat": 4,
 "nbformat_minor": 2
}

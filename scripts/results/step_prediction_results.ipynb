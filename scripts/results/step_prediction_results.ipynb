{
 "cells": [
  {
   "cell_type": "code",
   "execution_count": 18,
   "metadata": {},
   "outputs": [],
   "source": [
    "# add chempe\n",
    "import sys\n",
    "sys.path.append('../..')\n"
   ]
  },
  {
   "cell_type": "code",
   "execution_count": 19,
   "metadata": {},
   "outputs": [],
   "source": [
    "import numpy as np\n",
    "import os"
   ]
  },
  {
   "cell_type": "code",
   "execution_count": null,
   "metadata": {},
   "outputs": [],
   "source": []
  },
  {
   "attachments": {},
   "cell_type": "markdown",
   "metadata": {},
   "source": [
    "# Step 1 Prediction"
   ]
  },
  {
   "cell_type": "code",
   "execution_count": 20,
   "metadata": {},
   "outputs": [],
   "source": [
    "import rdkit\n",
    "from rdkit import Chem\n",
    "import tqdm\n",
    "from chempe.data.warnings import disable_warnings, enable_warnings\n",
    "from collections import Counter\n"
   ]
  },
  {
   "cell_type": "code",
   "execution_count": 54,
   "metadata": {},
   "outputs": [],
   "source": [
    "#model = 'gpt-4'\n",
    "model = 'gpt-4'\n",
    "\n",
    "s1_pred_path = f'../../results/step1_prediction/{model}/step1_prediction_results.npy'\n",
    "s1_results = np.load(s1_pred_path, allow_pickle=True).item()\n",
    "s1_pred_sc_path = f'../../results/step1_prediction_sc/{model}/step1_prediction_sc_results.npy'\n",
    "s1_sc_results = np.load(s1_pred_sc_path, allow_pickle=True).item()"
   ]
  },
  {
   "cell_type": "code",
   "execution_count": 55,
   "metadata": {},
   "outputs": [],
   "source": [
    "# Loads indices\n",
    "test_indices = np.load(\"../../data/test_indices.npy\", allow_pickle=True)\n",
    "# number of tests\n",
    "n = 20"
   ]
  },
  {
   "cell_type": "code",
   "execution_count": 56,
   "metadata": {},
   "outputs": [],
   "source": [
    "# evaluate results\n",
    "def eval_baseline(rez, warnings = False):\n",
    "    \"\"\"Only 1 result\"\"\"\n",
    "    if not warnings:\n",
    "        disable_warnings()\n",
    "        \n",
    "    top1 = 0\n",
    "    invalid = 0\n",
    "    res_type = [0] * n\n",
    "\n",
    "\n",
    "    for i in range(n):\n",
    "        # canonical gt\n",
    "        gt = Chem.CanonSmiles(rez['ground_truth'][test_indices[i]])\n",
    "        predicted = rez['predicted'][test_indices[i]][0]\n",
    "        try:\n",
    "            pred = Chem.CanonSmiles(predicted)\n",
    "            if gt == pred:\n",
    "                top1 += 1\n",
    "                res_type[i] = (1, pred, gt)\n",
    "            else:\n",
    "                res_type[i] = (-1, pred, gt)\n",
    "        except Exception as e:\n",
    "            # if failed to parse\n",
    "            invalid += 1\n",
    "            res_type[i] = (-2, None, gt)\n",
    "        \n",
    "    print(f\"Num correct: {top1}/{n}\")\n",
    "    print(f\"Num Invalid: {invalid}/{n}\")\n",
    "    \n",
    "    enable_warnings()\n",
    "    return res_type\n",
    "    \n",
    "def eval_sc(rez, warnings = False):\n",
    "    \"\"\"Use consistency\"\"\"\n",
    "    if not warnings:\n",
    "        disable_warnings()\n",
    "    \n",
    "    top1 = 0\n",
    "    top5 = 0\n",
    "    invalid = 0\n",
    "    res_type = [-1] * n\n",
    "    counts = []\n",
    "    \n",
    "    def count_preds(predicted):\n",
    "        canon_pred = []\n",
    "        tmp = 0\n",
    "        for p in predicted:\n",
    "            try:\n",
    "                canon_pred.append(Chem.CanonSmiles(p))\n",
    "            except:\n",
    "                tmp += 1\n",
    "                pass\n",
    "        #print(tmp)\n",
    "        return Counter(canon_pred)\n",
    "        \n",
    "\n",
    "    for i in range(n):\n",
    "        # canonical gt\n",
    "        gt = Chem.CanonSmiles(rez['ground_truth'][test_indices[i]])\n",
    "        counter = count_preds(rez['predicted'][test_indices[i]])\n",
    "        if len(counter) == 0:\n",
    "            invalid += 1\n",
    "            res_type[i] = (-2, None, gt)\n",
    "            continue\n",
    "\n",
    "        # top 1\n",
    "        pred = counter.most_common()[0]\n",
    "        if gt == pred[0]:\n",
    "            counts.append((pred[1],))\n",
    "            top1 += 1\n",
    "            top5 += 1\n",
    "            res_type[i] = (1, pred[0], gt)\n",
    "            continue\n",
    "        \n",
    "        pred5 = counter.most_common(n = 5)\n",
    "        pred5, cs = list(zip(*pred5))\n",
    "        if gt in pred5:\n",
    "            counts.append(cs)\n",
    "            top5 += 1\n",
    "            res_type[i] = (5, pred5, gt)\n",
    "            continue\n",
    "        \n",
    "        res_type[i] = (-1, pred[0], gt)\n",
    "            \n",
    "        \n",
    "            \n",
    "    print(f\"Top1 Correct: {top1}/{n}\")\n",
    "    print(f\"Top5 Correct: {top5}/{n}\")\n",
    "    print(f\"Num Invalid: {invalid}/{n}\")\n",
    "    print(counts)\n",
    "    enable_warnings()\n",
    "    return res_type\n",
    "\n",
    "\n",
    "        "
   ]
  },
  {
   "cell_type": "code",
   "execution_count": 57,
   "metadata": {},
   "outputs": [
    {
     "name": "stdout",
     "output_type": "stream",
     "text": [
      "Num correct: 18/20\n",
      "Num Invalid: 0/20\n"
     ]
    }
   ],
   "source": [
    "_= eval_baseline(rez=s1_results)"
   ]
  },
  {
   "cell_type": "code",
   "execution_count": 58,
   "metadata": {},
   "outputs": [
    {
     "name": "stdout",
     "output_type": "stream",
     "text": [
      "Top1 Correct: 20/20\n",
      "Top5 Correct: 20/20\n",
      "Num Invalid: 0/20\n",
      "[(20,), (20,), (20,), (20,), (20,), (18,), (20,), (20,), (19,), (20,), (12,), (20,), (17,), (20,), (7,), (20,), (20,), (20,), (20,), (20,)]\n"
     ]
    }
   ],
   "source": [
    "_ = eval_sc(s1_sc_results)"
   ]
  },
  {
   "cell_type": "code",
   "execution_count": null,
   "metadata": {},
   "outputs": [],
   "source": []
  }
 ],
 "metadata": {
  "kernelspec": {
   "display_name": "chempe",
   "language": "python",
   "name": "python3"
  },
  "language_info": {
   "codemirror_mode": {
    "name": "ipython",
    "version": 3
   },
   "file_extension": ".py",
   "mimetype": "text/x-python",
   "name": "python",
   "nbconvert_exporter": "python",
   "pygments_lexer": "ipython3",
   "version": "3.11.3"
  },
  "orig_nbformat": 4
 },
 "nbformat": 4,
 "nbformat_minor": 2
}

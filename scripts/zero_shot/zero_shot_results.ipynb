{
 "cells": [
  {
   "cell_type": "code",
   "execution_count": 1,
   "metadata": {},
   "outputs": [],
   "source": [
    "import numpy as np\n",
    "from pathlib import Path"
   ]
  },
  {
   "cell_type": "code",
   "execution_count": 5,
   "metadata": {},
   "outputs": [],
   "source": [
    "results_path = \"results/zero_shot_results.npy\""
   ]
  },
  {
   "cell_type": "code",
   "execution_count": 6,
   "metadata": {},
   "outputs": [],
   "source": [
    "results = np.load(results_path, allow_pickle=True).item()"
   ]
  },
  {
   "cell_type": "code",
   "execution_count": 15,
   "metadata": {},
   "outputs": [],
   "source": [
    "idx = 1\n",
    "key = list(results['answers'].keys())[idx]"
   ]
  },
  {
   "cell_type": "code",
   "execution_count": 16,
   "metadata": {},
   "outputs": [
    {
     "data": {
      "text/plain": [
       "('[CH:1]1([CH3:15])[CH2:2][CH:3]([O:10][CH2:11][C:12](=[O:13])[NH:28][C:17]([Cl:19])([Cl:16])[C:18]([Cl:19])=[O:20])[CH:4]([CH:7]([CH3:8])[CH3:9])[CH2:5][CH2:6]1',\n",
       " '[CH:1]1([CH3:15])[CH2:2][CH:3]([O:10][CH2:11][C:12](=[O:13])[Cl:16])[CH:4]([CH:7]([CH3:8])[CH3:9])[CH2:5][CH2:6]1')"
      ]
     },
     "execution_count": 16,
     "metadata": {},
     "output_type": "execute_result"
    }
   ],
   "source": [
    "results['answers'][key]"
   ]
  },
  {
   "cell_type": "code",
   "execution_count": 12,
   "metadata": {},
   "outputs": [
    {
     "name": "stdout",
     "output_type": "stream",
     "text": [
      "You are an expert chemist. Your task is to predict the resulting product given the reactants and reagents and your experienced reaction prediction knowledge. There are some rules to follow.\n",
      "1. Strictly follow the given format, and only respond with an atom mapped SMILES string.\n",
      "2. Numbers immediately following : represent the atom mapping.\n",
      "3. A . is used to distinguish between multiple reactant, reagent, and product SMILES strings.\n",
      "4. If no reagents exist, it is left blank.\n",
      "5. The resulting product must be be chemically reasonable and valid.\n",
      "Reactants: [Cl:12][CH2:13][C:14](=[O:15])[Cl:16].[Cl:1][c:2]1[c:3]([NH2:4])[cH:5][cH:6][c:7]([N+:9](=[O:10])[O-:11])[cH:8]1\n",
      "Reagents: [O:17]1[CH2:18][CH2:19][CH2:20][CH2:21]1\n",
      "Product:\n"
     ]
    }
   ],
   "source": [
    "print(results['prompts'][key])"
   ]
  },
  {
   "cell_type": "code",
   "execution_count": null,
   "metadata": {},
   "outputs": [],
   "source": []
  }
 ],
 "metadata": {
  "kernelspec": {
   "display_name": "chempe",
   "language": "python",
   "name": "python3"
  },
  "language_info": {
   "codemirror_mode": {
    "name": "ipython",
    "version": 3
   },
   "file_extension": ".py",
   "mimetype": "text/x-python",
   "name": "python",
   "nbconvert_exporter": "python",
   "pygments_lexer": "ipython3",
   "version": "3.11.3"
  },
  "orig_nbformat": 4
 },
 "nbformat": 4,
 "nbformat_minor": 2
}

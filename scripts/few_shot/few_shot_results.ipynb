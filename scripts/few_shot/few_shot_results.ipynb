{
 "cells": [
  {
   "cell_type": "code",
   "execution_count": 33,
   "metadata": {},
   "outputs": [],
   "source": [
    "import numpy as np\n",
    "from pathlib import Path"
   ]
  },
  {
   "cell_type": "code",
   "execution_count": 34,
   "metadata": {},
   "outputs": [],
   "source": [
    "results_path = \"results/few_shot_results.npy\""
   ]
  },
  {
   "cell_type": "code",
   "execution_count": 35,
   "metadata": {},
   "outputs": [],
   "source": [
    "results = np.load(results_path, allow_pickle=True).item()"
   ]
  },
  {
   "cell_type": "code",
   "execution_count": 36,
   "metadata": {},
   "outputs": [
    {
     "data": {
      "text/plain": [
       "dict_keys([16022, 2470, 2829, 25293, 6979, 28099, 18560, 3842, 25852, 27195])"
      ]
     },
     "execution_count": 36,
     "metadata": {},
     "output_type": "execute_result"
    }
   ],
   "source": [
    "results['indices'].keys()"
   ]
  },
  {
   "cell_type": "code",
   "execution_count": 60,
   "metadata": {},
   "outputs": [],
   "source": [
    "idx = 7\n",
    "key = list(results['indices'].keys())[idx]"
   ]
  },
  {
   "cell_type": "code",
   "execution_count": 61,
   "metadata": {},
   "outputs": [
    {
     "data": {
      "text/plain": [
       "('[Cl:12][CH2:13][C:14](=[O:15])[Cl:16].[Cl:1][c:2]1[c:3]([NH2:4])[cH:5][cH:6][c:7]([N+:9](=[O:10])[O-:11])[cH:8]1[CH2:18][CH2:19][CH2:20][CH2:21]',\n",
       " '[Cl:1][c:2]1[c:3]([NH:4][C:14]([CH2:13][Cl:12])=[O:15])[cH:5][cH:6][c:7]([N+:9](=[O:10])[O-:11])[cH:8]1')"
      ]
     },
     "execution_count": 61,
     "metadata": {},
     "output_type": "execute_result"
    }
   ],
   "source": [
    "results['answers'][key]"
   ]
  },
  {
   "cell_type": "code",
   "execution_count": 49,
   "metadata": {},
   "outputs": [
    {
     "name": "stdout",
     "output_type": "stream",
     "text": [
      "You are an expert chemist. Your task is to predict the resulting product given the reactants and reagents, several examples, and your experienced reaction prediction knowledge. There are some rules to follow.\n",
      "1. Strictly follow the given format, and only respond with an atom mapped SMILES string.\n",
      "2. Numbers immediately following : represent the atom mapping.\n",
      "3. A . is used to distinguish between multiple reactant, reagent, and product SMILES strings.\n",
      "4. If no reagents exist, it is left blank.\n",
      "5. The resulting product must be be chemically reasonable and valid.\n",
      "Reactants: [Br:15][CH2:16][C:17](=[O:18])[O:19][CH2:20][CH3:21].[OH:1][c:2]1[c:3]([C:12]([CH3:13])=[O:14])[cH:4][cH:5][c:6]([OH:11])[c:7]1[CH2:8][CH2:9][CH3:10]\n",
      "Reagents: [C:22](=[O:23])([O-:24])[O-:25].[CH3:28][C:29](=[O:30])[CH3:31].[K+:26].[K+:27]\n",
      "Product: [OH:1][c:2]1[c:3]([C:12]([CH3:13])=[O:14])[cH:4][cH:5][c:6]([O:11][CH2:16][C:17](=[O:18])[O:19][CH2:20][CH3:21])[c:7]1[CH2:8][CH2:9][CH3:10]\n",
      "Reactants: [CH:12]([CH3:13])([CH3:14])[O:15][c:16]1[c:17]([C:18](=[O:19])[OH:20])[cH:21][c:22]([S:25](=[O:26])(=[O:27])[CH3:28])[cH:23][cH:24]1.[Cl:1][c:2]1[cH:3][cH:4][c:5]2[c:10]([cH:11]1)[NH:9][CH2:8][CH2:7][CH2:6]2\n",
      "Reagents: \n",
      "Product: [Cl:1][c:2]1[cH:3][cH:4][c:5]2[c:10]([cH:11]1)[N:9]([C:18]([c:17]1[c:16]([O:15][CH:12]([CH3:13])[CH3:14])[cH:24][cH:23][c:22]([S:25](=[O:26])(=[O:27])[CH3:28])[cH:21]1)=[O:19])[CH2:8][CH2:7][CH2:6]2\n",
      "Reactants: [CH2:1]([c:2]1[cH:3][cH:4][cH:5][cH:6][cH:7]1)[N:8]1[c:9]2[c:10]([n:15][cH:16][c:17](-[c:19]3[cH:20][c:21]([C:22](=[O:23])[OH:24])[cH:25][cH:26][cH:27]3)[cH:18]2)[NH:11][CH2:12][C:13]1=[O:14].[CH2:28]1[CH2:29][CH2:30][NH:31][CH2:32]1\n",
      "Reagents: \n",
      "Product: [CH2:1]([c:2]1[cH:3][cH:4][cH:5][cH:6][cH:7]1)[N:8]1[c:9]2[c:10]([n:15][cH:16][c:17](-[c:19]3[cH:20][c:21]([C:22](=[O:23])[N:31]4[CH2:30][CH2:29][CH2:28][CH2:32]4)[cH:25][cH:26][cH:27]3)[cH:18]2)[NH:11][CH2:12][C:13]1=[O:14]\n",
      "Reactants: [CH3:14][N:15]([C:16](=[O:17])[c:18]1[cH:19][cH:20][c:21]([CH2:22][NH2:23])[cH:24][cH:25]1)[CH3:26].[Cl:1][c:2]1[c:3](=[O:13])[n:4]([C:9]([CH3:10])([CH3:11])[CH3:12])[n:5][cH:6][c:7]1[Cl:8]\n",
      "Reagents: [CH2:34]1[O:35][CH2:36][CH2:37][O:38][CH2:39]1.[OH2:33].[cH:27]1[cH:28][cH:29][n:30][cH:31][cH:32]1\n",
      "Product: [Cl:1][c:2]1[c:3](=[O:13])[n:4]([C:9]([CH3:10])([CH3:11])[CH3:12])[n:5][cH:6][c:7]1[NH:23][CH2:22][c:21]1[cH:20][cH:19][c:18]([C:16]([N:15]([CH3:14])[CH3:26])=[O:17])[cH:25][cH:24]1\n",
      "Reactants: [C:2]([Si:3]([c:4]1[cH:5][cH:6][cH:40][cH:41][cH:42]1)([O:7][CH2:8][CH2:9][c:10]1[c:11](=[O:39])[n:12](-[c:16]2[c:17]([CH3:38])[cH:18][c:19]([N:22]3[C:23](=[O:37])[O:24][CH:25]([CH2:27][NH:28][C:29](=[O:30])[c:31]4[s:32][c:33]([Cl:36])[cH:34][cH:35]4)[CH2:26]3)[cH:20][cH:21]2)[cH:13][cH:14][cH:15]1)[c:43]1[cH:44][cH:45][cH:46][cH:47][cH:48]1)([CH3:49])([CH3:50])[CH3:51]\n",
      "Reagents: [CH3:52][OH:53].[Cl:54][CH2:55][Cl:56].[ClH:1]\n",
      "Product: [OH:7][CH2:8][CH2:9][c:10]1[c:11](=[O:39])[n:12](-[c:16]2[c:17]([CH3:38])[cH:18][c:19]([N:22]3[C:23](=[O:37])[O:24][CH:25]([CH2:27][NH:28][C:29](=[O:30])[c:31]4[s:32][c:33]([Cl:36])[cH:34][cH:35]4)[CH2:26]3)[cH:20][cH:21]2)[cH:13][cH:14][cH:15]1\n",
      "Reactants: [Br:1][N:2]1[C:3](=[O:4])[CH2:5][CH2:6][C:7]1=[O:8].[Cl:9][c:10]1[cH:11][cH:12][c:13]([CH2:14][NH:15][C:16](=[O:17])[c:18]2[c:19](=[O:28])[c:20]3[c:21]([n:22]([CH3:24])[cH:23]2)[o:25][cH:26][cH:27]3)[cH:29][cH:30]1\n",
      "Reagents: [Cl:31][CH:32]([Cl:33])[Cl:34]\n",
      "Product: [Br:1][c:26]1[o:25][c:21]2[c:20]([c:19](=[O:28])[c:18]([C:16]([NH:15][CH2:14][c:13]3[cH:12][cH:11][c:10]([Cl:9])[cH:30][cH:29]3)=[O:17])[cH:23][n:22]2[CH3:24])[cH:27]1\n",
      "Reactants: [Br:1][c:2]1[cH:3][c:4]([Cl:9])[c:5]([NH2:8])[cH:6][cH:7]1.[CH3:17][C:18]1([CH3:25])[O:19][BH:20][O:21][C:22]1([CH3:23])[CH3:24]\n",
      "Reagents: [CH3:10][CH2:11][N:12]([CH2:13][CH3:14])[CH2:15][CH3:16].[CH3:32][CH2:33][O:34][CH2:35][CH3:36].[O:26]1[CH2:27][CH2:28][O:29][CH2:30][CH2:31]1.[OH2:37]\n",
      "Product: [c:2]1([B:20]2[O:19][C:18]([CH3:17])([CH3:25])[C:22]([CH3:23])([CH3:24])[O:21]2)[cH:3][c:4]([Cl:9])[c:5]([NH2:8])[cH:6][cH:7]1\n",
      "Reactants: [NH2:1][S:2](=[O:3])(=[O:4])[c:5]1[cH:6][cH:7][c:8](-[c:11]2[s:12][cH:13][c:14]([C:16](=[O:17])[O:18][CH2:19][CH3:20])[n:15]2)[cH:9][cH:10]1\n",
      "Reagents: [CH3:21][OH:22].[OH2:23]\n",
      "Product: [NH2:1][S:2](=[O:3])(=[O:4])[c:5]1[cH:6][cH:7][c:8](-[c:11]2[s:12][cH:13][c:14]([C:16](=[O:17])[OH:18])[n:15]2)[cH:9][cH:10]1\n",
      "Reactants: [CH:1]1([CH3:15])[CH2:2][CH:3]([O:10][CH2:11][C:12](=[O:13])[OH:14])[CH:4]([CH:7]([CH3:8])[CH3:9])[CH2:5][CH2:6]1.[Cl:16][C:17]([C:18]([Cl:19])=[O:20])=[O:21]\n",
      "Reagents: [cH:22]1[cH:23][cH:24][cH:25][cH:26][cH:27]1\n",
      "Product:\n"
     ]
    }
   ],
   "source": [
    "print(results['prompts'][key])"
   ]
  },
  {
   "cell_type": "code",
   "execution_count": null,
   "metadata": {},
   "outputs": [],
   "source": []
  }
 ],
 "metadata": {
  "kernelspec": {
   "display_name": "chempe",
   "language": "python",
   "name": "python3"
  },
  "language_info": {
   "codemirror_mode": {
    "name": "ipython",
    "version": 3
   },
   "file_extension": ".py",
   "mimetype": "text/x-python",
   "name": "python",
   "nbconvert_exporter": "python",
   "pygments_lexer": "ipython3",
   "version": "3.11.3"
  },
  "orig_nbformat": 4
 },
 "nbformat": 4,
 "nbformat_minor": 2
}

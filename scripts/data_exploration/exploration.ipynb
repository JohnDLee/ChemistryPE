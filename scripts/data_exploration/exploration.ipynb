{
 "cells": [
  {
   "cell_type": "code",
   "execution_count": 5,
   "metadata": {},
   "outputs": [],
   "source": [
    "# add chempe\n",
    "import sys\n",
    "sys.path.append('../..')"
   ]
  },
  {
   "cell_type": "code",
   "execution_count": 6,
   "metadata": {},
   "outputs": [],
   "source": [
    "from chempe.data.lef_uspto import LEF_USPTO, DataVariants\n",
    "from chempe.data.transforms import TransformStrToBrokenDownParts, TransformToRdKitIntermediates"
   ]
  },
  {
   "cell_type": "code",
   "execution_count": 7,
   "metadata": {},
   "outputs": [],
   "source": [
    "test_data = LEF_USPTO(DataVariants.TEST, transforms=[TransformStrToBrokenDownParts(), TransformToRdKitIntermediates()])"
   ]
  },
  {
   "cell_type": "code",
   "execution_count": 8,
   "metadata": {},
   "outputs": [],
   "source": [
    "import os\n",
    "import numpy as np"
   ]
  },
  {
   "cell_type": "code",
   "execution_count": 9,
   "metadata": {},
   "outputs": [],
   "source": [
    "# select n test prompts\n",
    "n = 20\n",
    "test_indices = np.load(\"../../data/test_indices.npy\", allow_pickle=True)[:n]"
   ]
  },
  {
   "cell_type": "code",
   "execution_count": 11,
   "metadata": {},
   "outputs": [
    {
     "name": "stderr",
     "output_type": "stream",
     "text": [
      "/Users/johnlee/Documents/Projects/ChemistryPE/scripts/data_exploration/../../chempe/data/rdkit_ops/rdkit_reaction_ops.py:173: UserWarning: We potentially are having changes in kekulization.\n",
      "  warnings.warn(\"We potentially are having changes in kekulization.\")\n"
     ]
    }
   ],
   "source": [
    "data = test_data[test_indices]"
   ]
  },
  {
   "cell_type": "code",
   "execution_count": 21,
   "metadata": {},
   "outputs": [],
   "source": [
    "from ipywidgets import interact, fixed"
   ]
  },
  {
   "cell_type": "code",
   "execution_count": 63,
   "metadata": {},
   "outputs": [
    {
     "name": "stdout",
     "output_type": "stream",
     "text": [
      "Help on RdKitIntermediates in module chempe.data.transforms object:\n",
      "\n",
      "class RdKitIntermediates(builtins.tuple)\n",
      " |  RdKitIntermediates(broken_down_parts: chempe.data.transforms.BrokenDownParts, intermediates: List[rdkit.Chem.rdchem.Mol], reagents: rdkit.Chem.rdchem.Mol, ordered_indx_path: List[int], am_to_idx_map: Mapping[int, int])\n",
      " |  \n",
      " |  RdKitIntermediates(broken_down_parts, intermediates, reagents, ordered_indx_path, am_to_idx_map)\n",
      " |  \n",
      " |  Method resolution order:\n",
      " |      RdKitIntermediates\n",
      " |      builtins.tuple\n",
      " |      builtins.object\n",
      " |  \n",
      " |  Methods defined here:\n",
      " |  \n",
      " |  __getnewargs__(self)\n",
      " |      Return self as a plain tuple.  Used by copy and pickle.\n",
      " |  \n",
      " |  __repr__(self)\n",
      " |      Return a nicely formatted representation string\n",
      " |  \n",
      " |  _asdict(self)\n",
      " |      Return a new dict which maps field names to their values.\n",
      " |  \n",
      " |  _replace(self, /, **kwds)\n",
      " |      Return a new RdKitIntermediates object replacing specified fields with new values\n",
      " |  \n",
      " |  ----------------------------------------------------------------------\n",
      " |  Class methods defined here:\n",
      " |  \n",
      " |  _make(iterable) from builtins.type\n",
      " |      Make a new RdKitIntermediates object from a sequence or iterable\n",
      " |  \n",
      " |  ----------------------------------------------------------------------\n",
      " |  Static methods defined here:\n",
      " |  \n",
      " |  __new__(_cls, broken_down_parts: chempe.data.transforms.BrokenDownParts, intermediates: List[rdkit.Chem.rdchem.Mol], reagents: rdkit.Chem.rdchem.Mol, ordered_indx_path: List[int], am_to_idx_map: Mapping[int, int])\n",
      " |      Create new instance of RdKitIntermediates(broken_down_parts, intermediates, reagents, ordered_indx_path, am_to_idx_map)\n",
      " |  \n",
      " |  ----------------------------------------------------------------------\n",
      " |  Data descriptors defined here:\n",
      " |  \n",
      " |  broken_down_parts\n",
      " |      Alias for field number 0\n",
      " |  \n",
      " |  intermediates\n",
      " |      Alias for field number 1\n",
      " |  \n",
      " |  reagents\n",
      " |      Alias for field number 2\n",
      " |  \n",
      " |  ordered_indx_path\n",
      " |      Alias for field number 3\n",
      " |  \n",
      " |  am_to_idx_map\n",
      " |      Alias for field number 4\n",
      " |  \n",
      " |  ----------------------------------------------------------------------\n",
      " |  Data and other attributes defined here:\n",
      " |  \n",
      " |  __annotations__ = {'am_to_idx_map': typing.Mapping[int, int], 'broken_...\n",
      " |  \n",
      " |  __match_args__ = ('broken_down_parts', 'intermediates', 'reagents', 'o...\n",
      " |  \n",
      " |  __orig_bases__ = (<function NamedTuple>,)\n",
      " |  \n",
      " |  _field_defaults = {}\n",
      " |  \n",
      " |  _fields = ('broken_down_parts', 'intermediates', 'reagents', 'ordered_...\n",
      " |  \n",
      " |  ----------------------------------------------------------------------\n",
      " |  Methods inherited from builtins.tuple:\n",
      " |  \n",
      " |  __add__(self, value, /)\n",
      " |      Return self+value.\n",
      " |  \n",
      " |  __contains__(self, key, /)\n",
      " |      Return key in self.\n",
      " |  \n",
      " |  __eq__(self, value, /)\n",
      " |      Return self==value.\n",
      " |  \n",
      " |  __ge__(self, value, /)\n",
      " |      Return self>=value.\n",
      " |  \n",
      " |  __getattribute__(self, name, /)\n",
      " |      Return getattr(self, name).\n",
      " |  \n",
      " |  __getitem__(self, key, /)\n",
      " |      Return self[key].\n",
      " |  \n",
      " |  __gt__(self, value, /)\n",
      " |      Return self>value.\n",
      " |  \n",
      " |  __hash__(self, /)\n",
      " |      Return hash(self).\n",
      " |  \n",
      " |  __iter__(self, /)\n",
      " |      Implement iter(self).\n",
      " |  \n",
      " |  __le__(self, value, /)\n",
      " |      Return self<=value.\n",
      " |  \n",
      " |  __len__(self, /)\n",
      " |      Return len(self).\n",
      " |  \n",
      " |  __lt__(self, value, /)\n",
      " |      Return self<value.\n",
      " |  \n",
      " |  __mul__(self, value, /)\n",
      " |      Return self*value.\n",
      " |  \n",
      " |  __ne__(self, value, /)\n",
      " |      Return self!=value.\n",
      " |  \n",
      " |  __rmul__(self, value, /)\n",
      " |      Return value*self.\n",
      " |  \n",
      " |  count(self, value, /)\n",
      " |      Return number of occurrences of value.\n",
      " |  \n",
      " |  index(self, value, start=0, stop=9223372036854775807, /)\n",
      " |      Return first index of value.\n",
      " |      \n",
      " |      Raises ValueError if the value is not present.\n",
      " |  \n",
      " |  ----------------------------------------------------------------------\n",
      " |  Class methods inherited from builtins.tuple:\n",
      " |  \n",
      " |  __class_getitem__(...) from builtins.type\n",
      " |      See PEP 585\n",
      "\n",
      "None\n"
     ]
    }
   ],
   "source": [
    "print(help(data[0]))"
   ]
  },
  {
   "cell_type": "code",
   "execution_count": 67,
   "metadata": {},
   "outputs": [
    {
     "name": "stdout",
     "output_type": "stream",
     "text": [
      "5\n",
      "[10, 10, 0, 3]\n",
      "{1: 0, 2: 1, 3: 2, 4: 3, 5: 4, 6: 5, 7: 6, 13: 7, 19: 8, 20: 9, 21: 10, 22: 11, 23: 12, 24: 13, 25: 14, 14: 15, 15: 16, 16: 17, 17: 18, 18: 19}\n",
      "5\n",
      "[16, 15, 6, 8]\n",
      "{1: 0, 15: 1, 2: 2, 3: 3, 10: 4, 11: 5, 12: 6, 13: 7, 14: 8, 4: 9, 7: 10, 8: 11, 9: 12, 5: 13, 6: 14, 16: 15, 17: 16, 18: 17, 19: 18, 20: 19, 21: 20}\n",
      "3\n",
      "[9, 10]\n",
      "{1: 0, 2: 1, 30: 2, 3: 3, 4: 4, 12: 5, 13: 6, 29: 7, 14: 8, 23: 9, 24: 10, 25: 11, 26: 12, 27: 13, 28: 14, 15: 15, 16: 16, 17: 17, 18: 18, 19: 19, 20: 20, 21: 21, 22: 22, 5: 23, 6: 24, 7: 25, 8: 26, 9: 27, 10: 28, 11: 29}\n",
      "5\n",
      "[8, 7, 1, 0]\n",
      "{1: 0, 2: 1, 3: 2, 4: 3, 5: 4, 6: 5, 7: 6, 8: 7, 12: 8, 13: 9, 14: 10, 9: 11, 10: 12, 11: 13}\n",
      "5\n",
      "[9, 9, 53, 54]\n",
      "{1: 0, 2: 1, 3: 2, 4: 3, 5: 4, 6: 5, 7: 6, 8: 7, 9: 8, 10: 9, 52: 10, 53: 11, 11: 12, 12: 13, 31: 14, 32: 15, 33: 16, 34: 17, 35: 18, 40: 19, 41: 20, 42: 21, 51: 22, 43: 23, 50: 24, 44: 25, 47: 26, 48: 27, 49: 28, 45: 29, 46: 30, 36: 31, 39: 32, 37: 33, 38: 34, 13: 35, 23: 36, 24: 37, 25: 38, 26: 39, 27: 40, 28: 41, 29: 42, 30: 43, 14: 44, 15: 45, 16: 46, 17: 47, 18: 48, 19: 49, 20: 50, 21: 51, 22: 52, 54: 53, 55: 54}\n",
      "5\n",
      "[7, 7, 0, 6]\n",
      "{8: 0, 9: 1, 10: 2, 11: 3, 12: 4, 13: 5, 14: 6, 1: 7, 2: 8, 3: 9, 4: 10, 5: 11, 7: 12, 6: 13}\n",
      "5\n",
      "[16, 16, 1, 0]\n",
      "{1: 0, 2: 1, 3: 2, 4: 3, 7: 4, 8: 5, 9: 6, 10: 7, 13: 8, 14: 9, 15: 10, 16: 11, 11: 12, 12: 13, 5: 14, 6: 15, 17: 16, 18: 17, 19: 18, 20: 19, 24: 20, 25: 21, 26: 22, 27: 23, 28: 24, 29: 25, 30: 26, 31: 27, 32: 28, 33: 29, 34: 30, 21: 31, 22: 32, 23: 33}\n",
      "5\n",
      "[8, 8, 2, 4]\n",
      "{12: 0, 13: 1, 14: 2, 15: 3, 16: 4, 1: 5, 2: 6, 3: 7, 4: 8, 5: 9, 6: 10, 7: 11, 9: 12, 10: 13, 11: 14, 8: 15}\n",
      "5\n",
      "[17, 18, 1, 0]\n",
      "{8: 0, 9: 1, 10: 2, 11: 3, 22: 4, 23: 5, 24: 6, 12: 7, 13: 8, 14: 9, 15: 10, 16: 11, 17: 12, 18: 13, 19: 14, 20: 15, 21: 16, 1: 17, 2: 18, 3: 19, 4: 20, 5: 21, 6: 22, 7: 23}\n",
      "5\n",
      "[9, 9, 29, 32]\n",
      "{1: 0, 2: 1, 3: 2, 4: 3, 5: 4, 6: 5, 7: 6, 8: 7, 12: 8, 13: 9, 14: 10, 15: 11, 16: 12, 17: 13, 18: 14, 21: 15, 22: 16, 23: 17, 24: 18, 25: 19, 26: 20, 19: 21, 20: 22, 9: 23, 10: 24, 11: 25, 27: 26, 29: 27, 30: 28, 35: 29, 36: 30, 37: 31, 38: 32, 31: 33, 32: 34, 33: 35, 34: 36}\n",
      "5\n",
      "[5, 5, 20, 19]\n",
      "{34: 0, 35: 1, 36: 2, 37: 3, 38: 4, 39: 5, 40: 6, 41: 7, 42: 8, 44: 9, 45: 10, 46: 11, 47: 12, 50: 13, 51: 14, 52: 15, 48: 16, 49: 17, 43: 18, 1: 19, 2: 20, 3: 21, 4: 22, 5: 23, 6: 24, 8: 25, 9: 26, 17: 27, 18: 28, 19: 29, 20: 30, 21: 31, 22: 32, 23: 33, 24: 34, 30: 35, 25: 36, 26: 37, 27: 38, 28: 39, 29: 40, 31: 41, 32: 42, 33: 43, 10: 44, 11: 45, 12: 46, 13: 47, 14: 48, 15: 49, 16: 50, 7: 51}\n",
      "3\n",
      "[12, 11]\n",
      "{1: 0, 2: 1, 3: 2, 4: 3, 5: 4, 8: 5, 9: 6, 10: 7, 11: 8, 14: 9, 15: 10, 16: 11, 17: 12, 18: 13, 19: 14, 20: 15, 21: 16, 22: 17, 23: 18, 24: 19, 25: 20, 12: 21, 13: 22, 6: 23, 7: 24}\n",
      "5\n",
      "[19, 19, 23, 22]\n",
      "{6: 0, 7: 1, 8: 2, 9: 3, 10: 4, 11: 5, 27: 6, 12: 7, 13: 8, 26: 9, 14: 10, 15: 11, 16: 12, 17: 13, 18: 14, 19: 15, 20: 16, 21: 17, 22: 18, 25: 19, 23: 20, 24: 21, 1: 22, 2: 23, 3: 24, 4: 25, 5: 26}\n",
      "5\n",
      "[24, 23, 1, 0]\n",
      "{1: 0, 2: 1, 3: 2, 12: 3, 13: 4, 14: 5, 15: 6, 16: 7, 17: 8, 4: 9, 5: 10, 11: 11, 6: 12, 8: 13, 9: 14, 10: 15, 7: 16, 18: 17, 19: 18, 20: 19, 21: 20, 22: 21, 23: 22, 24: 23, 25: 24, 26: 25, 27: 26, 28: 27, 29: 28, 30: 29, 31: 30, 32: 31, 33: 32, 34: 33, 35: 34, 36: 35, 37: 36}\n",
      "5\n",
      "[0, 0, 2, 1]\n",
      "{22: 0, 1: 1, 2: 2, 3: 3, 4: 4, 5: 5, 17: 6, 6: 7, 8: 8, 9: 9, 15: 10, 16: 11, 10: 12, 14: 13, 11: 14, 12: 15, 13: 16, 7: 17}\n",
      "3\n",
      "[10, 9]\n",
      "{2: 0, 12: 1, 13: 2, 14: 3, 15: 4, 16: 5, 19: 6, 20: 7, 21: 8, 22: 9, 25: 10, 26: 11, 27: 12, 28: 13, 29: 14, 30: 15, 31: 16, 23: 17, 24: 18, 17: 19, 18: 20, 3: 21, 4: 22, 5: 23, 6: 24, 7: 25, 8: 26, 9: 27, 10: 28, 11: 29}\n",
      "5\n",
      "[6, 6, 2, 1]\n",
      "{18: 0, 19: 1, 20: 2, 21: 3, 5: 4, 6: 5, 7: 6, 8: 7, 9: 8, 10: 9, 11: 10}\n",
      "5\n",
      "[1, 1, 29, 31]\n",
      "{1: 0, 2: 1, 3: 2, 7: 3, 8: 4, 9: 5, 10: 6, 11: 7, 12: 8, 17: 9, 13: 10, 14: 11, 15: 12, 16: 13, 4: 14, 5: 15, 6: 16, 18: 17, 19: 18, 20: 19, 21: 20, 27: 21, 28: 22, 29: 23, 33: 24, 30: 25, 31: 26, 32: 27, 22: 28, 24: 29, 25: 30, 26: 31, 23: 32}\n",
      "5\n",
      "[7, 7, 10, 11]\n",
      "{6: 0, 7: 1, 8: 2, 9: 3, 10: 4, 11: 5, 12: 6, 13: 7, 14: 8, 15: 9, 16: 10, 17: 11}\n",
      "5\n",
      "[16, 16, 28, 30]\n",
      "{1: 0, 2: 1, 3: 2, 4: 3, 5: 4, 6: 5, 7: 6, 8: 7, 9: 8, 10: 9, 11: 10, 12: 11, 13: 12, 14: 13, 19: 14, 15: 15, 18: 16, 16: 17, 17: 18, 20: 19, 21: 20, 23: 21, 24: 22, 25: 23, 26: 24, 27: 25, 30: 26, 31: 27, 37: 28, 38: 29, 39: 30, 32: 31, 33: 32, 34: 33, 36: 34, 35: 35, 28: 36, 29: 37}\n"
     ]
    }
   ],
   "source": [
    "for i in range(n):\n",
    "    print(len(data[i].intermediates))\n",
    "    print(data[i].ordered_indx_path)\n",
    "    print(data[i].am_to_idx_map)"
   ]
  },
  {
   "cell_type": "code",
   "execution_count": 94,
   "metadata": {},
   "outputs": [],
   "source": [
    "def print_parts(i, file):\n",
    "    with open(file, 'w') as f:\n",
    "        f.write(data[i].broken_down_parts.reactants + '\\n')\n",
    "        for intermediate in data[i].intermediates[1:]:\n",
    "            f.write(intermediate + '\\n')\n",
    "        f.write(data[i].broken_down_parts.products + '\\n')\n",
    "        for j in data[i].ordered_indx_path:\n",
    "            f.write(f'{j} ')\n",
    "        \n",
    "    "
   ]
  },
  {
   "cell_type": "code",
   "execution_count": 95,
   "metadata": {},
   "outputs": [],
   "source": [
    "for i in range(20):\n",
    "    print_parts(i, f\"data/{i}.txt\")"
   ]
  },
  {
   "cell_type": "code",
   "execution_count": 29,
   "metadata": {},
   "outputs": [],
   "source": [
    "def check_step1_change(i):\n",
    "    if data[i].broken_down_parts.reactants == data[i].intermediates[1]:\n",
    "        return False\n",
    "    return True\n"
   ]
  },
  {
   "cell_type": "code",
   "execution_count": 36,
   "metadata": {},
   "outputs": [
    {
     "data": {
      "text/plain": [
       "{0: False,\n",
       " 1: False,\n",
       " 2: True,\n",
       " 3: True,\n",
       " 4: False,\n",
       " 5: False,\n",
       " 6: True,\n",
       " 7: False,\n",
       " 8: False,\n",
       " 9: False,\n",
       " 10: False,\n",
       " 11: False,\n",
       " 12: False,\n",
       " 13: False,\n",
       " 14: False,\n",
       " 15: True,\n",
       " 16: False,\n",
       " 17: True,\n",
       " 18: False,\n",
       " 19: False}"
      ]
     },
     "execution_count": 36,
     "metadata": {},
     "output_type": "execute_result"
    }
   ],
   "source": [
    "changes = {i:check_step1_change(i) for i in range(20)}\n",
    "changes"
   ]
  },
  {
   "cell_type": "code",
   "execution_count": 42,
   "metadata": {},
   "outputs": [],
   "source": [
    "from collections import Counter\n",
    "def check_step1_let_change(i):\n",
    "    x = Counter(data[i].broken_down_parts.reactants)\n",
    "    y = Counter(data[i].intermediates[1])\n",
    "    return x == y"
   ]
  },
  {
   "cell_type": "code",
   "execution_count": 43,
   "metadata": {},
   "outputs": [
    {
     "data": {
      "text/plain": [
       "{0: True,\n",
       " 1: True,\n",
       " 2: True,\n",
       " 3: True,\n",
       " 4: True,\n",
       " 5: True,\n",
       " 6: True,\n",
       " 7: True,\n",
       " 8: True,\n",
       " 9: True,\n",
       " 10: True,\n",
       " 11: True,\n",
       " 12: True,\n",
       " 13: True,\n",
       " 14: True,\n",
       " 15: True,\n",
       " 16: True,\n",
       " 17: True,\n",
       " 18: True,\n",
       " 19: True}"
      ]
     },
     "execution_count": 43,
     "metadata": {},
     "output_type": "execute_result"
    }
   ],
   "source": [
    "total_item_change = {i:check_step1_let_change(i) for i in range(n)}\n",
    "total_item_change"
   ]
  },
  {
   "cell_type": "code",
   "execution_count": 57,
   "metadata": {},
   "outputs": [],
   "source": [
    "def check_step2_change(i):\n",
    "    x = Counter(data[i].intermediates[1])\n",
    "    y = Counter(data[i].intermediates[2])\n",
    "    diff = set()\n",
    "    for j in x:\n",
    "        if x[j] != y[j]:\n",
    "            diff.add(j)\n",
    "    for j in y:\n",
    "        if x[j] != y[j]:\n",
    "            diff.add(j)\n",
    "    return(diff)"
   ]
  },
  {
   "cell_type": "code",
   "execution_count": 58,
   "metadata": {},
   "outputs": [
    {
     "data": {
      "text/plain": [
       "{0: {'+'},\n",
       " 1: {'.'},\n",
       " 2: {'='},\n",
       " 3: {'(', ')', '.'},\n",
       " 4: {'+'},\n",
       " 5: {'+'},\n",
       " 6: {'+'},\n",
       " 7: {'+'},\n",
       " 8: {'.'},\n",
       " 9: {'+'},\n",
       " 10: {'+'},\n",
       " 11: {'.', '1', '3'},\n",
       " 12: {'+'},\n",
       " 13: {'.'},\n",
       " 14: {'+'},\n",
       " 15: {'(', ')', '.'},\n",
       " 16: {'+'},\n",
       " 17: {'+'},\n",
       " 18: {'+'},\n",
       " 19: {'+'}}"
      ]
     },
     "execution_count": 58,
     "metadata": {},
     "output_type": "execute_result"
    }
   ],
   "source": [
    "{i:check_step2_change(i) for i in range(n)}"
   ]
  },
  {
   "cell_type": "code",
   "execution_count": 93,
   "metadata": {},
   "outputs": [
    {
     "data": {
      "text/plain": [
       "RdKitIntermediates(broken_down_parts=BrokenDownParts(reactants='[CH:1]([CH3:2])([CH3:3])[NH:4][CH:5]([CH3:6])[CH3:7].[c:13]1([C:19](=[CH:20][CH2:21][C:22](=[O:23])[OH:24])[CH3:25])[cH:14][cH:15][cH:16][cH:17][cH:18]1', reagents='[CH2:30]1[O:31][CH2:32][CH2:33][CH2:34]1.[CH2:8]([Li:9])[CH2:10][CH2:11][CH3:12].[CH3:35][CH2:36][CH2:37][CH2:38][CH2:39][CH3:40].[CH:26]([I:27])([CH3:28])[CH3:29].[OH2:41]', products='[CH:1]([CH3:2])([CH3:3])[CH:21]([CH:20]=[C:19]([c:13]1[cH:14][cH:15][cH:16][cH:17][cH:18]1)[CH3:25])[C:22](=[O:23])[OH:24]', ordered_am_path=[21, 21, 1, 4]), intermediates=['[CH:1]([CH3:2])([CH3:3])[NH:4][CH:5]([CH3:6])[CH3:7].[c:13]1([C:19](=[CH:20][CH2:21][C:22](=[O:23])[OH:24])[CH3:25])[cH:14][cH:15][cH:16][cH:17][cH:18]1', '[CH:1]([CH3:2])([CH3:3])[NH:4][CH:5]([CH3:6])[CH3:7].[c:13]1([C:19](=[CH:20][CH2:21][C:22](=[O:23])[OH:24])[CH3:25])[cH:14][cH:15][cH:16][cH:17][cH:18]1', '[CH:1]([CH3:2])([CH3:3])[NH:4][CH:5]([CH3:6])[CH3:7].[c:13]1([C:19](=[CH:20][CH2+:21][C:22](=[O:23])[OH:24])[CH3:25])[cH:14][cH:15][cH:16][cH:17][cH:18]1', '[CH:1]([CH3:2])([CH3:3])([NH:4][CH:5]([CH3:6])[CH3:7])[CH2+:21]([CH:20]=[C:19]([c:13]1[cH:14][cH:15][cH:16][cH:17][cH:18]1)[CH3:25])[C:22](=[O:23])[OH:24]', '[CH:1]([CH3:2])([CH3:3])[CH2+:21]([CH:20]=[C:19]([c:13]1[cH:14][cH:15][cH:16][cH:17][cH:18]1)[CH3:25])[C:22](=[O:23])[OH:24].[NH:4][CH:5]([CH3:6])[CH3:7]'], reagents=<rdkit.Chem.rdchem.Mol object at 0x13e3cf370>, ordered_indx_path=[10, 10, 0, 3], am_to_idx_map={1: 0, 2: 1, 3: 2, 4: 3, 5: 4, 6: 5, 7: 6, 13: 7, 19: 8, 20: 9, 21: 10, 22: 11, 23: 12, 24: 13, 25: 14, 14: 15, 15: 16, 16: 17, 17: 18, 18: 19})"
      ]
     },
     "execution_count": 93,
     "metadata": {},
     "output_type": "execute_result"
    }
   ],
   "source": [
    "data[0]"
   ]
  },
  {
   "cell_type": "code",
   "execution_count": 68,
   "metadata": {},
   "outputs": [],
   "source": [
    "{data[i]. for i in rn}"
   ]
  },
  {
   "cell_type": "code",
   "execution_count": 85,
   "metadata": {},
   "outputs": [
    {
     "data": {
      "image/png": "[encoded data removed]",
      "text/plain": [
       "<rdkit.Chem.rdchem.Mol at 0x13fc02a40>"
      ]
     },
     "execution_count": 85,
     "metadata": {},
     "output_type": "execute_result"
    }
   ],
   "source": [
    "x = rdkit.Chem.MolFromSmiles(\"[O:1]=[S:2]1(=[O:30])[N:3]=[C:4]([c:12]2[c:13](=[O:29])[n:14]([N:23]=[CH:24][CH2:25][CH2:26][CH2:27][CH3:28])[c:15]3[cH:16][cH:17][cH:18][cH:19][c:20]3[c:21]2[OH:22])[NH:5][c:6]2[c:7]1[cH:8][cH:9][cH:10][cH:11]2\")\n",
    "x"
   ]
  },
  {
   "cell_type": "code",
   "execution_count": 86,
   "metadata": {},
   "outputs": [],
   "source": [
    "rdkit.Chem.Kekulize(x)"
   ]
  },
  {
   "cell_type": "code",
   "execution_count": 87,
   "metadata": {},
   "outputs": [
    {
     "data": {
      "image/png": "[encoded data removed]",
      "text/plain": [
       "<rdkit.Chem.rdchem.Mol at 0x13fc02a40>"
      ]
     },
     "execution_count": 87,
     "metadata": {},
     "output_type": "execute_result"
    }
   ],
   "source": [
    "x"
   ]
  },
  {
   "cell_type": "code",
   "execution_count": 89,
   "metadata": {},
   "outputs": [
    {
     "data": {
      "text/plain": [
       "False"
      ]
     },
     "execution_count": 89,
     "metadata": {},
     "output_type": "execute_result"
    }
   ],
   "source": [
    "rdkit.Chem.MolToSmiles(x) == \"[O:1]=[S:2]1(=[O:30])[N:3]=[C:4]([c:12]2[c:13](=[O:29])[n:14]([N:23]=[CH:24][CH2:25][CH2:26][CH2:27][CH3:28])[c:15]3[cH:16][cH:17][cH:18][cH:19][c:20]3[c:21]2[OH:22])[NH:5][c:6]2[c:7]1[cH:8][cH:9][cH:10][cH:11]2\""
   ]
  },
  {
   "cell_type": "code",
   "execution_count": 90,
   "metadata": {},
   "outputs": [
    {
     "data": {
      "text/plain": [
       "True"
      ]
     },
     "execution_count": 90,
     "metadata": {},
     "output_type": "execute_result"
    }
   ],
   "source": [
    "rdkit.Chem.CanonSmiles(\"[O:1]=[S:2]1(=[O:30])[N:3]=[C:4]([c:12]2[c:13](=[O:29])[n:14]([N:23]=[CH:24][CH2:25][CH2:26][CH2:27][CH3:28])[c:15]3[cH:16][cH:17][cH:18][cH:19][c:20]3[c:21]2[OH:22])[NH:5][c:6]2[c:7]1[cH:8][cH:9][cH:10][cH:11]2\") == \"[O:1]=[S:2]1(=[O:30])[N:3]=[C:4]([c:12]2[c:13](=[O:29])[n:14]([N:23]=[CH:24][CH2:25][CH2:26][CH2:27][CH3:28])[c:15]3[cH:16][cH:17][cH:18][cH:19][c:20]3[c:21]2[OH:22])[NH:5][c:6]2[c:7]1[cH:8][cH:9][cH:10][cH:11]2\""
   ]
  },
  {
   "cell_type": "code",
   "execution_count": null,
   "metadata": {},
   "outputs": [],
   "source": []
  }
 ],
 "metadata": {
  "kernelspec": {
   "display_name": "chempe",
   "language": "python",
   "name": "python3"
  },
  "language_info": {
   "codemirror_mode": {
    "name": "ipython",
    "version": 3
   },
   "file_extension": ".py",
   "mimetype": "text/x-python",
   "name": "python",
   "nbconvert_exporter": "python",
   "pygments_lexer": "ipython3",
   "version": "3.11.3"
  },
  "orig_nbformat": 4
 },
 "nbformat": 4,
 "nbformat_minor": 2
}
